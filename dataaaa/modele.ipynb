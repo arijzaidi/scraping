{
 "cells": [
  {
   "cell_type": "code",
   "execution_count": 522,
   "metadata": {},
   "outputs": [],
   "source": [
    "from unicodedata import digit\n",
    "\n",
    "from sklearn.model_selection import train_test_split\n",
    "\n",
    "from sklearn.neighbors import KNeighborsClassifier\n"
   ]
  },
  {
   "cell_type": "code",
   "execution_count": 523,
   "metadata": {},
   "outputs": [
    {
     "name": "stdout",
     "output_type": "stream",
     "text": [
      "        Marque    Modèle      year  kilometrage     boite  horsepower  \\\n",
      "0     1.510542 -0.181928 -0.194610     0.264335 -0.879329   -0.632070   \n",
      "1    -0.946048 -0.661456 -0.349312     1.285650  1.137231    0.379860   \n",
      "2    -0.181176 -0.617863  1.043007    -0.843901 -0.879329   -0.126105   \n",
      "3    -0.658096 -0.748643  0.733603     0.264335  1.137231   -0.379088   \n",
      "4     0.574698 -0.443489 -0.504014     0.329525  1.137231    0.379860   \n",
      "...        ...       ...       ...          ...       ...         ...   \n",
      "2286 -0.181176  0.689941 -0.504014     0.851048 -0.879329   -0.632070   \n",
      "2287 -0.469128  0.079633  0.424199    -0.257188  1.137231    0.126878   \n",
      "2288  0.340737 -0.705050 -0.194610    -0.452759 -0.879329    0.126878   \n",
      "2289 -1.009038  3.436329  1.043007    -1.381721 -0.879329   -0.632070   \n",
      "2290 -0.136183 -0.530676 -2.205738     1.763712 -0.879329   -0.885053   \n",
      "\n",
      "      nbre_portes  cylindrée   essence    diesel  hybride  \n",
      "0       -0.656345  -0.310606  0.695563 -0.636806 -0.19749  \n",
      "1        0.792293  -0.671938  0.695563 -0.636806 -0.19749  \n",
      "2        0.792293  -0.543315  0.695563 -0.636806 -0.19749  \n",
      "3       -0.656345  -0.413659  0.695563 -0.636806 -0.19749  \n",
      "4       -0.656345  -0.620024  0.695563 -0.636806 -0.19749  \n",
      "...           ...        ...       ...       ...      ...  \n",
      "2286    -0.656345   0.213522 -1.437684  1.570338 -0.19749  \n",
      "2287    -0.656345  -0.424809 -1.437684  1.570338 -0.19749  \n",
      "2288    -0.656345  -0.486455  0.695563 -0.636806 -0.19749  \n",
      "2289    -0.656345   1.103744 -1.437684  1.570338 -0.19749  \n",
      "2290    -0.656345  -0.125255  0.695563 -0.636806 -0.19749  \n",
      "\n",
      "[2291 rows x 11 columns]\n",
      "(344, 11)\n",
      "(344,)\n"
     ]
    }
   ],
   "source": [
    "import pandas as pd\n",
    "from sklearn.preprocessing import StandardScaler\n",
    "\n",
    "df = pd.read_csv('final_data_scaled.csv')\n",
    "Y = df['Prix']\n",
    "X = df.drop(['Prix'], axis=1)\n",
    "\n",
    "scaler = StandardScaler()\n",
    "X_scaled = pd.DataFrame(\n",
    "    scaler.fit_transform(X), \n",
    "    columns=X.columns         \n",
    ")\n",
    "print(X_scaled)\n",
    "\n",
    "x_train, x_test, y_train, y_test = train_test_split(X_scaled, Y, test_size=0.15)\n",
    "print(x_test.shape)\n",
    "print(y_test.shape)\n"
   ]
  },
  {
   "cell_type": "code",
   "execution_count": 524,
   "metadata": {},
   "outputs": [
    {
     "name": "stdout",
     "output_type": "stream",
     "text": [
      "1450    23000\n",
      "610     53000\n",
      "267     67000\n",
      "1794    41000\n",
      "2036    72000\n",
      "        ...  \n",
      "346     62500\n",
      "189     79000\n",
      "1584    16000\n",
      "1027    71500\n",
      "400     68000\n",
      "Name: Prix, Length: 1947, dtype: int64\n"
     ]
    }
   ],
   "source": [
    "print(y_train)"
   ]
  },
  {
   "cell_type": "code",
   "execution_count": 525,
   "metadata": {},
   "outputs": [
    {
     "name": "stdout",
     "output_type": "stream",
     "text": [
      "we are in iteration 2\n",
      "MAE sur le jeu de test : 19621.808139534885\n",
      "MSE sur le jeu de test : 974640467.8313954\n",
      "R² Score sur le jeu de test : 0.781904543562805\n",
      "_____________\n"
     ]
    }
   ],
   "source": [
    "# tester le modele regression ploynomiale:\n",
    "\n",
    "from sklearn.linear_model import LinearRegression\n",
    "from sklearn.preprocessing import PolynomialFeatures\n",
    "from sklearn.metrics import mean_absolute_error, mean_squared_error, r2_score\n",
    "import matplotlib.pyplot as plt\n",
    "\n",
    "# for i in range(2,6):\n",
    "# 1. Transformation des données en polynômes\n",
    "pr = PolynomialFeatures(degree=2) \n",
    "X_poly_train = pr.fit_transform(x_train)  # Transformation des données d'entraînement\n",
    "# 2. Entraînement du modèle\n",
    "lr_2 = LinearRegression() \n",
    "lr_2.fit(X_poly_train, y_train)\n",
    "# 3. Transformation des données de test\n",
    "X_poly_test = pr.transform(x_test)\n",
    "# 4. Prédiction sur le jeu de test\n",
    "y_pred_test = lr_2.predict(X_poly_test)\n",
    "# 5. Calcul des métriques\n",
    "mae_test = mean_absolute_error(y_test, y_pred_test) \n",
    "mse_test = mean_squared_error(y_test, y_pred_test)\n",
    "r2_test = r2_score(y_test, y_pred_test)\n",
    "print(f'we are in iteration {2}')\n",
    "print(\"MAE sur le jeu de test :\", mae_test)\n",
    "print(\"MSE sur le jeu de test :\", mse_test)\n",
    "print(\"R² Score sur le jeu de test :\", r2_test)\n",
    "print(\"_____________\")\n",
    "\n",
    "\n",
    "    \n",
    "\n"
   ]
  },
  {
   "cell_type": "code",
   "execution_count": 526,
   "metadata": {},
   "outputs": [
    {
     "name": "stdout",
     "output_type": "stream",
     "text": [
      "606      40000\n",
      "745      57500\n",
      "1219     63500\n",
      "1466     33000\n",
      "1789     39500\n",
      "         ...  \n",
      "157      95000\n",
      "1057     45000\n",
      "299     126000\n",
      "511      56000\n",
      "75       72000\n",
      "Name: Prix, Length: 344, dtype: int64\n",
      "72504.0\n"
     ]
    }
   ],
   "source": [
    "print(y_test)\n",
    "print(y_pred_test[1])"
   ]
  },
  {
   "cell_type": "code",
   "execution_count": 527,
   "metadata": {},
   "outputs": [
    {
     "name": "stdout",
     "output_type": "stream",
     "text": [
      "MAE sur le jeu de test : 24441.906976744187\n",
      "MSE sur le jeu de test : 5985110365.697675\n",
      "R² Score sur le jeu de test : 0.781904543562805\n"
     ]
    }
   ],
   "source": [
    "# tester le modele de random forest :\n",
    "\n",
    "# Create Decision Tree regressor object \n",
    "from sklearn.tree import DecisionTreeRegressor\n",
    "\n",
    "\n",
    "clf = DecisionTreeRegressor() \n",
    "# Train Decision Tree Regressor \n",
    "clf = clf.fit(x_train,y_train) \n",
    "#Predict the response for test dataset \n",
    "y_pred = clf.predict(x_test) \n",
    "\n",
    "\n",
    "\n",
    "\n",
    "mae_test = mean_absolute_error(y_test, y_pred) \n",
    "mse_test = mean_squared_error(y_test, y_pred)\n",
    "r2_test = r2_score(y_test, y_pred_test)\n",
    "\n",
    "print(\"MAE sur le jeu de test :\", mae_test)\n",
    "print(\"MSE sur le jeu de test :\", mse_test)\n",
    "print(\"R² Score sur le jeu de test :\", r2_test)\n",
    "\n",
    "\n"
   ]
  },
  {
   "cell_type": "code",
   "execution_count": 528,
   "metadata": {},
   "outputs": [],
   "source": [
    "from io import StringIO\n",
    "import graphviz\n",
    "import pydotplus\n",
    "from sklearn.tree import export_graphviz\n",
    "\n",
    "\n",
    "dot_data = export_graphviz(clf, out_file=None,filled=True, rounded=True,special_characters=True,feature_names = X.columns,class_names=['0','1']) \n",
    "graph = graphviz.Source(dot_data)\n",
    "# Image(graph.create_png()) "
   ]
  },
  {
   "cell_type": "code",
   "execution_count": 529,
   "metadata": {},
   "outputs": [
    {
     "name": "stdout",
     "output_type": "stream",
     "text": [
      "MAE sur le jeu de test : 16151.840415282391\n",
      "MSE sur le jeu de test : 1054714767.1465033\n",
      "R² Score sur le jeu de test : 0.781904543562805\n"
     ]
    }
   ],
   "source": [
    "from sklearn.ensemble import RandomForestRegressor\n",
    "\n",
    "\n",
    "model=RandomForestRegressor(n_estimators=1000, random_state=0)\n",
    "model.fit(x_train, y_train)\n",
    "y_pred3=model.predict(x_test)\n",
    "\n",
    "mae_test = mean_absolute_error(y_test, y_pred3) \n",
    "mse_test = mean_squared_error(y_test, y_pred3)\n",
    "r2_test = r2_score(y_test, y_pred_test)\n",
    "\n",
    "print(\"MAE sur le jeu de test :\", mae_test)\n",
    "print(\"MSE sur le jeu de test :\", mse_test)\n",
    "print(\"R² Score sur le jeu de test :\", r2_test)\n",
    "\n",
    "\n",
    "\n"
   ]
  }
 ],
 "metadata": {
  "kernelspec": {
   "display_name": "myenv",
   "language": "python",
   "name": "python3"
  },
  "language_info": {
   "codemirror_mode": {
    "name": "ipython",
    "version": 3
   },
   "file_extension": ".py",
   "mimetype": "text/x-python",
   "name": "python",
   "nbconvert_exporter": "python",
   "pygments_lexer": "ipython3",
   "version": "3.8.20"
  }
 },
 "nbformat": 4,
 "nbformat_minor": 2
}
