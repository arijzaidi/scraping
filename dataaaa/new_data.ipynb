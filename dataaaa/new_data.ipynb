{
 "cells": [
  {
   "cell_type": "code",
   "execution_count": 60,
   "metadata": {},
   "outputs": [
    {
     "name": "stdout",
     "output_type": "stream",
     "text": [
      "     Unnamed: 0      Marque                                            Modèle  \\\n",
      "0             0  alfa-romeo                        giulia 2.0-turbo-bva-super   \n",
      "1             1  alfa-romeo                          stelvio 2.0-turbo-q4-bva   \n",
      "2             2        audi                a3-sportback 35-tfsi-advanced-line   \n",
      "3             3        audi              a3-berline 35-tfsi-business-extended   \n",
      "4             4        audi            a4 35-tfsi-s-tronic-business-line-plus   \n",
      "..          ...         ...                                               ...   \n",
      "444         444       volvo                       s90 2.0-l-plus-bright#specs   \n",
      "445         445       volvo                s90 2.0-l-24-ultimate-bright#specs   \n",
      "446         446       volvo           xc90 2.0-l-ultimate-bright-my2024#specs   \n",
      "447         447       volvo  xc90 2.0-l-recharge-my2024-ultimate-bright#specs   \n",
      "448         448   wallyscar                                        wolf 1.5-t   \n",
      "\n",
      "           boite horsepower                            fuel nbre_portes  \\\n",
      "0    Automatique       11CV                         Essence           4   \n",
      "1    Automatique       17CV                         Essence           5   \n",
      "2    Automatique        8CV                         Essence           5   \n",
      "3    Automatique        8CV                         Essence           4   \n",
      "4    Automatique        8CV                         Essence           4   \n",
      "..           ...        ...                             ...         ...   \n",
      "444  Automatique       15CV         Essence | Hybride léger           4   \n",
      "445  Automatique       15CV         Essence | Hybride léger           4   \n",
      "446  Automatique       15CV         Essence | Hybride léger           5   \n",
      "447  Automatique       20CV  Essence | Hybride rechargeable           5   \n",
      "448  Automatique        9CV                         Essence           5   \n",
      "\n",
      "    cylindrée          Prix  year  kilometrage  \n",
      "0     1995CM³  198 000DTTTC     0            0  \n",
      "1     1995CM³  265 000DTTTC     0            0  \n",
      "2     1395CM³  145 000DTTTC     0            0  \n",
      "3     1395CM³  149 000DTTTC     0            0  \n",
      "4     1984CM³  198 000DTTTC     0            0  \n",
      "..        ...           ...   ...          ...  \n",
      "444   1969CM³  273 900DTTTC     0            0  \n",
      "445   1969CM³  289 900DTTTC     0            0  \n",
      "446   1969CM³  375 900DTTTC     0            0  \n",
      "447   1969CM³  449 900DTTTC     0            0  \n",
      "448   1498CM³  119 900DTTTC     0            0  \n",
      "\n",
      "[449 rows x 11 columns]\n"
     ]
    }
   ],
   "source": [
    "import pandas as pd\n",
    "\n",
    "\n",
    "df=pd.read_csv('Automobiletn_Neuf_Data.csv') \n",
    "print(df)"
   ]
  },
  {
   "cell_type": "code",
   "execution_count": 61,
   "metadata": {},
   "outputs": [
    {
     "ename": "KeyError",
     "evalue": "\"None of [Index(['Brand', 'Model', 'Boîte', 'Puissance fiscale', 'Energie',\\n       'Nombre de portes', 'Cylindrée', 'Price'],\\n      dtype='object')] are in the [columns]\"",
     "output_type": "error",
     "traceback": [
      "\u001b[1;31m---------------------------------------------------------------------------\u001b[0m",
      "\u001b[1;31mKeyError\u001b[0m                                  Traceback (most recent call last)",
      "Cell \u001b[1;32mIn[61], line 3\u001b[0m\n\u001b[0;32m      1\u001b[0m df_cleaned \u001b[38;5;241m=\u001b[39m df\u001b[38;5;241m.\u001b[39mdropna(axis\u001b[38;5;241m=\u001b[39m\u001b[38;5;241m1\u001b[39m, how\u001b[38;5;241m=\u001b[39m\u001b[38;5;124m'\u001b[39m\u001b[38;5;124mall\u001b[39m\u001b[38;5;124m'\u001b[39m)\n\u001b[0;32m      2\u001b[0m correct_columns\u001b[38;5;241m=\u001b[39m [\u001b[38;5;124m'\u001b[39m\u001b[38;5;124mBrand\u001b[39m\u001b[38;5;124m'\u001b[39m,\u001b[38;5;124m'\u001b[39m\u001b[38;5;124mModel\u001b[39m\u001b[38;5;124m'\u001b[39m,\u001b[38;5;124m'\u001b[39m\u001b[38;5;124mBoîte\u001b[39m\u001b[38;5;124m'\u001b[39m,\u001b[38;5;124m'\u001b[39m\u001b[38;5;124mPuissance fiscale\u001b[39m\u001b[38;5;124m'\u001b[39m,\u001b[38;5;124m'\u001b[39m\u001b[38;5;124mEnergie\u001b[39m\u001b[38;5;124m'\u001b[39m,\u001b[38;5;124m'\u001b[39m\u001b[38;5;124mNombre de portes\u001b[39m\u001b[38;5;124m'\u001b[39m,\u001b[38;5;124m'\u001b[39m\u001b[38;5;124mCylindrée\u001b[39m\u001b[38;5;124m'\u001b[39m,\u001b[38;5;124m'\u001b[39m\u001b[38;5;124mPrice\u001b[39m\u001b[38;5;124m'\u001b[39m]\n\u001b[1;32m----> 3\u001b[0m df\u001b[38;5;241m=\u001b[39m\u001b[43mdf\u001b[49m\u001b[43m[\u001b[49m\u001b[43mcorrect_columns\u001b[49m\u001b[43m]\u001b[49m\n\u001b[0;32m      4\u001b[0m \u001b[38;5;28mprint\u001b[39m(df\u001b[38;5;241m.\u001b[39mcolumns)\n",
      "File \u001b[1;32md:\\anaconda3\\envs\\myenv\\lib\\site-packages\\pandas\\core\\frame.py:3767\u001b[0m, in \u001b[0;36mDataFrame.__getitem__\u001b[1;34m(self, key)\u001b[0m\n\u001b[0;32m   3765\u001b[0m     \u001b[38;5;28;01mif\u001b[39;00m is_iterator(key):\n\u001b[0;32m   3766\u001b[0m         key \u001b[38;5;241m=\u001b[39m \u001b[38;5;28mlist\u001b[39m(key)\n\u001b[1;32m-> 3767\u001b[0m     indexer \u001b[38;5;241m=\u001b[39m \u001b[38;5;28;43mself\u001b[39;49m\u001b[38;5;241;43m.\u001b[39;49m\u001b[43mcolumns\u001b[49m\u001b[38;5;241;43m.\u001b[39;49m\u001b[43m_get_indexer_strict\u001b[49m\u001b[43m(\u001b[49m\u001b[43mkey\u001b[49m\u001b[43m,\u001b[49m\u001b[43m \u001b[49m\u001b[38;5;124;43m\"\u001b[39;49m\u001b[38;5;124;43mcolumns\u001b[39;49m\u001b[38;5;124;43m\"\u001b[39;49m\u001b[43m)\u001b[49m[\u001b[38;5;241m1\u001b[39m]\n\u001b[0;32m   3769\u001b[0m \u001b[38;5;66;03m# take() does not accept boolean indexers\u001b[39;00m\n\u001b[0;32m   3770\u001b[0m \u001b[38;5;28;01mif\u001b[39;00m \u001b[38;5;28mgetattr\u001b[39m(indexer, \u001b[38;5;124m\"\u001b[39m\u001b[38;5;124mdtype\u001b[39m\u001b[38;5;124m\"\u001b[39m, \u001b[38;5;28;01mNone\u001b[39;00m) \u001b[38;5;241m==\u001b[39m \u001b[38;5;28mbool\u001b[39m:\n",
      "File \u001b[1;32md:\\anaconda3\\envs\\myenv\\lib\\site-packages\\pandas\\core\\indexes\\base.py:5877\u001b[0m, in \u001b[0;36mIndex._get_indexer_strict\u001b[1;34m(self, key, axis_name)\u001b[0m\n\u001b[0;32m   5874\u001b[0m \u001b[38;5;28;01melse\u001b[39;00m:\n\u001b[0;32m   5875\u001b[0m     keyarr, indexer, new_indexer \u001b[38;5;241m=\u001b[39m \u001b[38;5;28mself\u001b[39m\u001b[38;5;241m.\u001b[39m_reindex_non_unique(keyarr)\n\u001b[1;32m-> 5877\u001b[0m \u001b[38;5;28;43mself\u001b[39;49m\u001b[38;5;241;43m.\u001b[39;49m\u001b[43m_raise_if_missing\u001b[49m\u001b[43m(\u001b[49m\u001b[43mkeyarr\u001b[49m\u001b[43m,\u001b[49m\u001b[43m \u001b[49m\u001b[43mindexer\u001b[49m\u001b[43m,\u001b[49m\u001b[43m \u001b[49m\u001b[43maxis_name\u001b[49m\u001b[43m)\u001b[49m\n\u001b[0;32m   5879\u001b[0m keyarr \u001b[38;5;241m=\u001b[39m \u001b[38;5;28mself\u001b[39m\u001b[38;5;241m.\u001b[39mtake(indexer)\n\u001b[0;32m   5880\u001b[0m \u001b[38;5;28;01mif\u001b[39;00m \u001b[38;5;28misinstance\u001b[39m(key, Index):\n\u001b[0;32m   5881\u001b[0m     \u001b[38;5;66;03m# GH 42790 - Preserve name from an Index\u001b[39;00m\n",
      "File \u001b[1;32md:\\anaconda3\\envs\\myenv\\lib\\site-packages\\pandas\\core\\indexes\\base.py:5938\u001b[0m, in \u001b[0;36mIndex._raise_if_missing\u001b[1;34m(self, key, indexer, axis_name)\u001b[0m\n\u001b[0;32m   5936\u001b[0m     \u001b[38;5;28;01mif\u001b[39;00m use_interval_msg:\n\u001b[0;32m   5937\u001b[0m         key \u001b[38;5;241m=\u001b[39m \u001b[38;5;28mlist\u001b[39m(key)\n\u001b[1;32m-> 5938\u001b[0m     \u001b[38;5;28;01mraise\u001b[39;00m \u001b[38;5;167;01mKeyError\u001b[39;00m(\u001b[38;5;124mf\u001b[39m\u001b[38;5;124m\"\u001b[39m\u001b[38;5;124mNone of [\u001b[39m\u001b[38;5;132;01m{\u001b[39;00mkey\u001b[38;5;132;01m}\u001b[39;00m\u001b[38;5;124m] are in the [\u001b[39m\u001b[38;5;132;01m{\u001b[39;00maxis_name\u001b[38;5;132;01m}\u001b[39;00m\u001b[38;5;124m]\u001b[39m\u001b[38;5;124m\"\u001b[39m)\n\u001b[0;32m   5940\u001b[0m not_found \u001b[38;5;241m=\u001b[39m \u001b[38;5;28mlist\u001b[39m(ensure_index(key)[missing_mask\u001b[38;5;241m.\u001b[39mnonzero()[\u001b[38;5;241m0\u001b[39m]]\u001b[38;5;241m.\u001b[39munique())\n\u001b[0;32m   5941\u001b[0m \u001b[38;5;28;01mraise\u001b[39;00m \u001b[38;5;167;01mKeyError\u001b[39;00m(\u001b[38;5;124mf\u001b[39m\u001b[38;5;124m\"\u001b[39m\u001b[38;5;132;01m{\u001b[39;00mnot_found\u001b[38;5;132;01m}\u001b[39;00m\u001b[38;5;124m not in index\u001b[39m\u001b[38;5;124m\"\u001b[39m)\n",
      "\u001b[1;31mKeyError\u001b[0m: \"None of [Index(['Brand', 'Model', 'Boîte', 'Puissance fiscale', 'Energie',\\n       'Nombre de portes', 'Cylindrée', 'Price'],\\n      dtype='object')] are in the [columns]\""
     ]
    }
   ],
   "source": [
    "df_cleaned = df.dropna(axis=1, how='all')\n",
    "correct_columns= ['Brand','Model','Boîte','Puissance fiscale','Energie','Nombre de portes','Cylindrée','Price']\n",
    "df=df[correct_columns]\n",
    "print(df.columns)"
   ]
  },
  {
   "cell_type": "code",
   "execution_count": 53,
   "metadata": {},
   "outputs": [
    {
     "name": "stdout",
     "output_type": "stream",
     "text": [
      "Index(['Marque', 'Modèle', 'boite', 'horsepower', 'fuel', 'nbre_portes',\n",
      "       'cylindrée', 'Prix', 'year', 'kilometrage'],\n",
      "      dtype='object')\n"
     ]
    }
   ],
   "source": [
    "['Marque', 'Modèle', 'year', 'kilometrage', 'boite', 'horsepower',\n",
    "       'fuel', 'nbre_portes', 'cylindrée', 'Prix']\n",
    "df.rename(columns={'Brand':'Marque'}, inplace=True)\n",
    "df.rename(columns={'Kilometrage':'kilometrage'}, inplace=True)\n",
    "df.rename(columns={'Model':'Modèle'}, inplace=True)\n",
    "df.rename(columns={'Boîte':'boite'}, inplace=True)\n",
    "df.rename(columns={'Puissance fiscale':'horsepower'}, inplace=True)\n",
    "df.rename(columns={'Energie':'fuel'}, inplace=True)\n",
    "df.rename(columns={'Nombre de portes':'nbre_portes'}, inplace=True)\n",
    "df.rename(columns={'Cylindrée':'cylindrée'}, inplace=True)\n",
    "df.rename(columns={'Price':'Prix'}, inplace=True)\n",
    "\n",
    "df['year']=0\n",
    "df['kilometrage']=0\n",
    "print(df.columns)\n"
   ]
  },
  {
   "cell_type": "code",
   "execution_count": null,
   "metadata": {},
   "outputs": [],
   "source": [
    "df.to_csv('Automobiletn_Neuf_Data.csv')"
   ]
  }
 ],
 "metadata": {
  "kernelspec": {
   "display_name": "myenv",
   "language": "python",
   "name": "python3"
  },
  "language_info": {
   "codemirror_mode": {
    "name": "ipython",
    "version": 3
   },
   "file_extension": ".py",
   "mimetype": "text/x-python",
   "name": "python",
   "nbconvert_exporter": "python",
   "pygments_lexer": "ipython3",
   "version": "3.8.20"
  }
 },
 "nbformat": 4,
 "nbformat_minor": 2
}
