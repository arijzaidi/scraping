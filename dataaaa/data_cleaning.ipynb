{
 "cells": [
  {
   "cell_type": "code",
   "execution_count": 100,
   "metadata": {},
   "outputs": [],
   "source": [
    "import pandas as pd\n",
    "import datetime\n",
    "import re"
   ]
  },
  {
   "cell_type": "code",
   "execution_count": 101,
   "metadata": {},
   "outputs": [],
   "source": [
    "df_baniola=pd.read_csv('baniola1.csv')\n",
    "df_automobile=pd.read_csv('automobile_data.csv')"
   ]
  },
  {
   "cell_type": "code",
   "execution_count": 102,
   "metadata": {},
   "outputs": [
    {
     "name": "stdout",
     "output_type": "stream",
     "text": [
      "    Marque   Modèle  year horsepower        road     boite     fuel cylindrée  \\\n",
      "0     Fiat  FIORINO  2020       5 CV      180 KM  Manuelle   Diesel       4 L   \n",
      "1  Peugeot      308  2015       5 CV  180 000 KM  Manuelle  Essence       3 L   \n",
      "2  Renault   Kangoo  2012       5 CV  240 000 KM  Manuelle   Diesel       6 L   \n",
      "3   Suzuki   Autres  2020       5 CV   90 000 KM  Manuelle  Essence       3 L   \n",
      "4   Suzuki   Autres  2020       5 CV   88 000 KM  Manuelle  Essence       3 L   \n",
      "\n",
      "   nbre_portes  Negociable   Prix  \n",
      "0          3.0  Négociable     30  \n",
      "1          5.0  Négociable  32000  \n",
      "2          3.0         NaN  24500  \n",
      "3          5.0  Négociable  35800  \n",
      "4          5.0  Négociable  36500  \n",
      "--------------------------------------------------------------------\n",
      "          Marque             Modèle  year        road        boite horsepower  \\\n",
      "0  Mercedes-Benz           Classe E  2024        0 km  Automatique      10 cv   \n",
      "1        Peugeot               2008  2014  162 000 km     Manuelle       5 cv   \n",
      "2          Mazda                  6  2013  256 000 km  Automatique       9 cv   \n",
      "3           Ford  Ecosport Titanium  2022   60 000 km     Manuelle       7 cv   \n",
      "4         Toyota         C-HR Sport  2020  162 000 km  Automatique       6 cv   \n",
      "\n",
      "      fuel  nbre_portes  cylindrée transmission     Prix  \n",
      "0  Essence          4.0     1400.0    Intégrale  430 000  \n",
      "1  Essence          4.0     2398.0     Traction   36 000  \n",
      "2  Essence          5.0      999.0     Traction   33 000  \n",
      "3  Essence          5.0     1497.0     Traction   68 000  \n",
      "4  Essence          4.0     1999.0     Traction   73 000  \n"
     ]
    }
   ],
   "source": [
    "print(df_baniola.head())\n",
    "print('--------------------------------------------------------------------')\n",
    "print(df_automobile.head())"
   ]
  },
  {
   "cell_type": "code",
   "execution_count": 103,
   "metadata": {},
   "outputs": [
    {
     "name": "stdout",
     "output_type": "stream",
     "text": [
      "          Marque             Modèle  year        road        boite horsepower  \\\n",
      "0  Mercedes-Benz           Classe E  2024        0 km  Automatique      10 cv   \n",
      "1        Peugeot               2008  2014  162 000 km     Manuelle       5 cv   \n",
      "2          Mazda                  6  2013  256 000 km  Automatique       9 cv   \n",
      "3           Ford  Ecosport Titanium  2022   60 000 km     Manuelle       7 cv   \n",
      "4         Toyota         C-HR Sport  2020  162 000 km  Automatique       6 cv   \n",
      "\n",
      "      fuel  nbre_portes  cylindrée transmission     Prix  \n",
      "0  Essence          4.0      1.400    Intégrale  430 000  \n",
      "1  Essence          4.0      2.398     Traction   36 000  \n",
      "2  Essence          5.0      0.999     Traction   33 000  \n",
      "3  Essence          5.0      1.497     Traction   68 000  \n",
      "4  Essence          4.0      1.999     Traction   73 000  \n",
      "    Marque   Modèle  year horsepower        road     boite     fuel cylindrée  \\\n",
      "0     Fiat  FIORINO  2020       5 CV      180 KM  Manuelle   Diesel         4   \n",
      "1  Peugeot      308  2015       5 CV  180 000 KM  Manuelle  Essence         3   \n",
      "2  Renault   Kangoo  2012       5 CV  240 000 KM  Manuelle   Diesel         6   \n",
      "3   Suzuki   Autres  2020       5 CV   90 000 KM  Manuelle  Essence         3   \n",
      "4   Suzuki   Autres  2020       5 CV   88 000 KM  Manuelle  Essence         3   \n",
      "\n",
      "   nbre_portes  Negociable   Prix  \n",
      "0          3.0  Négociable     30  \n",
      "1          5.0  Négociable  32000  \n",
      "2          3.0         NaN  24500  \n",
      "3          5.0  Négociable  35800  \n",
      "4          5.0  Négociable  36500  \n"
     ]
    }
   ],
   "source": [
    "# ajuster le feature 'cylindée' de df_automobile pour qu'il soit de type int:\n",
    "df_automobile['cylindrée'] = df_automobile['cylindrée'].astype(float)/1000\n",
    "print(df_automobile.head())\n",
    "df_baniola['cylindrée'] = df_baniola['cylindrée'].apply(lambda x: re.search(r'\\d+', x).group() if pd.notnull(x) else x)\n",
    "print(df_baniola.head())"
   ]
  },
  {
   "cell_type": "code",
   "execution_count": 104,
   "metadata": {},
   "outputs": [],
   "source": [
    "# on va supprimer le feature \"negiciable\" de df_baniola car il n'a pas d'impact dans la prediction de prix des voiture.\n",
    "df_baniola.drop('Negociable', axis=1, inplace=True)"
   ]
  },
  {
   "cell_type": "code",
   "execution_count": 105,
   "metadata": {},
   "outputs": [],
   "source": [
    "# on va supprimer le feature \"transmission\" de df_automobile car il n'existe pas dans df_baniola\n",
    "df_automobile.drop('transmission', axis=1, inplace=True)"
   ]
  },
  {
   "cell_type": "code",
   "execution_count": 106,
   "metadata": {},
   "outputs": [
    {
     "name": "stdout",
     "output_type": "stream",
     "text": [
      "    Marque   Modèle  year horsepower        road     boite     fuel cylindrée  \\\n",
      "0     Fiat  FIORINO  2020       5 CV      180 KM  Manuelle   Diesel         4   \n",
      "1  Peugeot      308  2015       5 CV  180 000 KM  Manuelle  Essence         3   \n",
      "2  Renault   Kangoo  2012       5 CV  240 000 KM  Manuelle   Diesel         6   \n",
      "3   Suzuki   Autres  2020       5 CV   90 000 KM  Manuelle  Essence         3   \n",
      "4   Suzuki   Autres  2020       5 CV   88 000 KM  Manuelle  Essence         3   \n",
      "\n",
      "   nbre_portes   Prix  \n",
      "0          3.0     30  \n",
      "1          5.0  32000  \n",
      "2          3.0  24500  \n",
      "3          5.0  35800  \n",
      "4          5.0  36500  \n",
      "--------------------------------------------------------------------\n",
      "          Marque             Modèle  year        road        boite horsepower  \\\n",
      "0  Mercedes-Benz           Classe E  2024        0 km  Automatique      10 cv   \n",
      "1        Peugeot               2008  2014  162 000 km     Manuelle       5 cv   \n",
      "2          Mazda                  6  2013  256 000 km  Automatique       9 cv   \n",
      "3           Ford  Ecosport Titanium  2022   60 000 km     Manuelle       7 cv   \n",
      "4         Toyota         C-HR Sport  2020  162 000 km  Automatique       6 cv   \n",
      "\n",
      "      fuel  nbre_portes  cylindrée     Prix  \n",
      "0  Essence          4.0      1.400  430 000  \n",
      "1  Essence          4.0      2.398   36 000  \n",
      "2  Essence          5.0      0.999   33 000  \n",
      "3  Essence          5.0      1.497   68 000  \n",
      "4  Essence          4.0      1.999   73 000  \n"
     ]
    }
   ],
   "source": [
    "print(df_baniola.head())\n",
    "print('--------------------------------------------------------------------')\n",
    "print(df_automobile.head())"
   ]
  },
  {
   "cell_type": "code",
   "execution_count": 107,
   "metadata": {},
   "outputs": [],
   "source": [
    "# fusionner les 2 dataframes:\n",
    "df = pd.concat([df_automobile, df_baniola], ignore_index=True)\n",
    "df.to_csv('final_data.csv', index=False)\n",
    "\n"
   ]
  },
  {
   "cell_type": "code",
   "execution_count": 108,
   "metadata": {},
   "outputs": [
    {
     "name": "stdout",
     "output_type": "stream",
     "text": [
      "              Marque             Modèle  year        road        boite  \\\n",
      "0      Mercedes-Benz           Classe E  2024        0 km  Automatique   \n",
      "1            Peugeot               2008  2014  162 000 km     Manuelle   \n",
      "2              Mazda                  6  2013  256 000 km  Automatique   \n",
      "3               Ford  Ecosport Titanium  2022   60 000 km     Manuelle   \n",
      "4             Toyota         C-HR Sport  2020  162 000 km  Automatique   \n",
      "...              ...                ...   ...         ...          ...   \n",
      "17395           Opel             Kadett  1991       16 KM     Manuelle   \n",
      "17396           Ford             FIESTA  2013  170 000 KM     Manuelle   \n",
      "17397     Volkswagen               Golf  2010  276 000 KM     Manuelle   \n",
      "17398      Chevrolet              CRUZE  2014  199 585 KM     Manuelle   \n",
      "17399        Renault             Scenic  2007  299 000 KM     Manuelle   \n",
      "\n",
      "      horsepower     fuel  nbre_portes cylindrée     Prix  \n",
      "0          10 cv  Essence          4.0       1.4  430 000  \n",
      "1           5 cv  Essence          4.0     2.398   36 000  \n",
      "2           9 cv  Essence          5.0     0.999   33 000  \n",
      "3           7 cv  Essence          5.0     1.497   68 000  \n",
      "4           6 cv  Essence          4.0     1.999   73 000  \n",
      "...          ...      ...          ...       ...      ...  \n",
      "17395       5 CV  Essence          5.0         9     7500  \n",
      "17396       5 CV  Essence          5.0        25    19000  \n",
      "17397       7 CV  Essence          5.0         7    37000  \n",
      "17398       7 CV  Essence          5.0         5    32000  \n",
      "17399       8 CV   Diesel          5.0        10    23000  \n",
      "\n",
      "[17400 rows x 10 columns]\n"
     ]
    }
   ],
   "source": [
    "print(df)"
   ]
  },
  {
   "cell_type": "code",
   "execution_count": 126,
   "metadata": {},
   "outputs": [
    {
     "name": "stdout",
     "output_type": "stream",
     "text": [
      "int32\n",
      "0        4\n",
      "1        4\n",
      "2        5\n",
      "3        5\n",
      "4        4\n",
      "        ..\n",
      "16195    5\n",
      "16196    5\n",
      "16197    5\n",
      "16198    5\n",
      "16199    5\n",
      "Name: nbre_portes, Length: 2387, dtype: int32\n"
     ]
    }
   ],
   "source": [
    "# convertir le nbre de portes en int:\n",
    "print(df['nbre_portes'].dtype)\n",
    "# df['nbre_portes'] = df['nbre_portes'].apply(lambda x: int(x) if pd.notnull(x) else x)\n",
    "\n",
    "# Remplacer NaN par 0 et convertir en int\n",
    "df['nbre_portes'] = df['nbre_portes'].fillna(0).astype(int)\n",
    "print(df['nbre_portes'])\n"
   ]
  },
  {
   "cell_type": "code",
   "execution_count": 109,
   "metadata": {},
   "outputs": [
    {
     "name": "stdout",
     "output_type": "stream",
     "text": [
      "15013\n"
     ]
    }
   ],
   "source": [
    "# drop duplicates:\n",
    "print(df.duplicated().sum())\n",
    "df.drop_duplicates(inplace=True)\n",
    "df.to_csv('final_data.csv', index=False)\n"
   ]
  },
  {
   "cell_type": "code",
   "execution_count": 110,
   "metadata": {},
   "outputs": [
    {
     "name": "stdout",
     "output_type": "stream",
     "text": [
      "              Marque             Modèle  year kilometrage        boite  \\\n",
      "0      Mercedes-Benz           Classe E  2024        0 km  Automatique   \n",
      "1            Peugeot               2008  2014  162 000 km     Manuelle   \n",
      "2              Mazda                  6  2013  256 000 km  Automatique   \n",
      "3               Ford  Ecosport Titanium  2022   60 000 km     Manuelle   \n",
      "4             Toyota         C-HR Sport  2020  162 000 km  Automatique   \n",
      "...              ...                ...   ...         ...          ...   \n",
      "16195           Opel             Kadett  1991       16 KM     Manuelle   \n",
      "16196           Ford             FIESTA  2013  170 000 KM     Manuelle   \n",
      "16197     Volkswagen               Golf  2010  276 000 KM     Manuelle   \n",
      "16198      Chevrolet              CRUZE  2014  199 585 KM     Manuelle   \n",
      "16199        Renault             Scenic  2007  299 000 KM     Manuelle   \n",
      "\n",
      "      horsepower     fuel  nbre_portes cylindrée     Prix  \n",
      "0          10 cv  Essence          4.0       1.4  430 000  \n",
      "1           5 cv  Essence          4.0     2.398   36 000  \n",
      "2           9 cv  Essence          5.0     0.999   33 000  \n",
      "3           7 cv  Essence          5.0     1.497   68 000  \n",
      "4           6 cv  Essence          4.0     1.999   73 000  \n",
      "...          ...      ...          ...       ...      ...  \n",
      "16195       5 CV  Essence          5.0         9     7500  \n",
      "16196       5 CV  Essence          5.0        25    19000  \n",
      "16197       7 CV  Essence          5.0         7    37000  \n",
      "16198       7 CV  Essence          5.0         5    32000  \n",
      "16199       8 CV   Diesel          5.0        10    23000  \n",
      "\n",
      "[2387 rows x 10 columns]\n"
     ]
    }
   ],
   "source": [
    "# renomer la colonne road en \"kilometrage\"\n",
    "df.rename(columns={'road':'kilometrage'}, inplace=True)\n",
    "print(df)"
   ]
  },
  {
   "cell_type": "code",
   "execution_count": 111,
   "metadata": {},
   "outputs": [],
   "source": [
    "# unifier le feature cylindree : eliminer la lettre \"L\" et convertir à la meme unite \n"
   ]
  },
  {
   "cell_type": "code",
   "execution_count": null,
   "metadata": {},
   "outputs": [],
   "source": []
  },
  {
   "cell_type": "code",
   "execution_count": null,
   "metadata": {},
   "outputs": [],
   "source": []
  }
 ],
 "metadata": {
  "kernelspec": {
   "display_name": "myenv",
   "language": "python",
   "name": "python3"
  },
  "language_info": {
   "codemirror_mode": {
    "name": "ipython",
    "version": 3
   },
   "file_extension": ".py",
   "mimetype": "text/x-python",
   "name": "python",
   "nbconvert_exporter": "python",
   "pygments_lexer": "ipython3",
   "version": "3.8.20"
  }
 },
 "nbformat": 4,
 "nbformat_minor": 2
}
