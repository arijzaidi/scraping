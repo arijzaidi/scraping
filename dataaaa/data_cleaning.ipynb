{
 "cells": [
  {
   "cell_type": "code",
   "execution_count": 199,
   "metadata": {},
   "outputs": [],
   "source": [
    "import pandas as pd\n",
    "import datetime\n",
    "import re\n",
    "import numpy as np\n",
    "from sklearn.preprocessing import LabelEncoder\n",
    "from sklearn.ensemble import RandomForestRegressor\n",
    "from sklearn.discriminant_analysis import StandardScaler\n",
    "import seaborn as sns\n",
    "from matplotlib import pyplot as plt\n",
    "\n"
   ]
  },
  {
   "cell_type": "code",
   "execution_count": 200,
   "metadata": {},
   "outputs": [],
   "source": [
    "df_baniola=pd.read_csv('../data/baniola.csv')\n",
    "df_automobile=pd.read_csv('automobile_data.csv')"
   ]
  },
  {
   "cell_type": "code",
   "execution_count": 201,
   "metadata": {},
   "outputs": [
    {
     "name": "stdout",
     "output_type": "stream",
     "text": [
      "     Marque   Modèle    year        road     boite horsepower     fuel  \\\n",
      "0   Hyundai      I10  2015.0  180 000 KM  Manuelle       5 CV  Essence   \n",
      "1    Suzuki   Autres  2020.0   90 000 KM  Manuelle       5 CV  Essence   \n",
      "2    Suzuki   Autres  2020.0   88 000 KM  Manuelle       5 CV  Essence   \n",
      "3  Mahindra  KUV 100  2022.0   10 300 KM  Manuelle       5 CV   Diesel   \n",
      "4   Peugeot      308  2015.0  180 000 KM  Manuelle       5 CV  Essence   \n",
      "\n",
      "   nbre_portes cylindrée   Prix  \n",
      "0            5       NaN  28000  \n",
      "1            5       3 L  35800  \n",
      "2            5       3 L  36500  \n",
      "3            4       3 L      0  \n",
      "4            5       3 L  32000  \n",
      "--------------------------------------------------------------------\n",
      "          Marque             Modèle  year        road        boite horsepower  \\\n",
      "0  Mercedes-Benz           Classe E  2024        0 km  Automatique      10 cv   \n",
      "1        Peugeot               2008  2014  162 000 km     Manuelle       5 cv   \n",
      "2          Mazda                  6  2013  256 000 km  Automatique       9 cv   \n",
      "3           Ford  Ecosport Titanium  2022   60 000 km     Manuelle       7 cv   \n",
      "4         Toyota         C-HR Sport  2020  162 000 km  Automatique       6 cv   \n",
      "\n",
      "      fuel  nbre_portes  cylindrée transmission     Prix  \n",
      "0  Essence          4.0     1400.0    Intégrale  430 000  \n",
      "1  Essence          4.0     2398.0     Traction   36 000  \n",
      "2  Essence          5.0      999.0     Traction   33 000  \n",
      "3  Essence          5.0     1497.0     Traction   68 000  \n",
      "4  Essence          4.0     1999.0     Traction   73 000  \n",
      "--------------------------------------------------------------------\n"
     ]
    }
   ],
   "source": [
    "print(df_baniola.head())\n",
    "print('--------------------------------------------------------------------')\n",
    "print(df_automobile.head())\n",
    "print('--------------------------------------------------------------------')"
   ]
  },
  {
   "cell_type": "code",
   "execution_count": 202,
   "metadata": {},
   "outputs": [],
   "source": [
    "# ajuster le feature 'cylindée' de df_automobile pour qu'il soit de type int:\n",
    "df_automobile['cylindrée'] = df_automobile['cylindrée'].astype(float)/1000\n",
    "# print(df_automobile.head())\n",
    "df_baniola['cylindrée'] = df_baniola['cylindrée'].apply(lambda x: re.search(r'\\d+', x).group() if pd.notnull(x) else x)\n",
    "# print(df_baniola.head())"
   ]
  },
  {
   "cell_type": "code",
   "execution_count": 203,
   "metadata": {},
   "outputs": [],
   "source": [
    "# on va supprimer le feature \"transmission\" de df_automobile car il n'existe pas dans df_baniola\n",
    "df_automobile.drop('transmission', axis=1, inplace=True)"
   ]
  },
  {
   "cell_type": "code",
   "execution_count": 204,
   "metadata": {},
   "outputs": [
    {
     "name": "stdout",
     "output_type": "stream",
     "text": [
      "     Marque   Modèle    year        road     boite horsepower     fuel  \\\n",
      "0   Hyundai      I10  2015.0  180 000 KM  Manuelle       5 CV  Essence   \n",
      "1    Suzuki   Autres  2020.0   90 000 KM  Manuelle       5 CV  Essence   \n",
      "2    Suzuki   Autres  2020.0   88 000 KM  Manuelle       5 CV  Essence   \n",
      "3  Mahindra  KUV 100  2022.0   10 300 KM  Manuelle       5 CV   Diesel   \n",
      "4   Peugeot      308  2015.0  180 000 KM  Manuelle       5 CV  Essence   \n",
      "\n",
      "   nbre_portes cylindrée   Prix  \n",
      "0            5       NaN  28000  \n",
      "1            5         3  35800  \n",
      "2            5         3  36500  \n",
      "3            4         3      0  \n",
      "4            5         3  32000  \n",
      "--------------------------------------------------------------------\n",
      "          Marque             Modèle  year        road        boite horsepower  \\\n",
      "0  Mercedes-Benz           Classe E  2024        0 km  Automatique      10 cv   \n",
      "1        Peugeot               2008  2014  162 000 km     Manuelle       5 cv   \n",
      "2          Mazda                  6  2013  256 000 km  Automatique       9 cv   \n",
      "3           Ford  Ecosport Titanium  2022   60 000 km     Manuelle       7 cv   \n",
      "4         Toyota         C-HR Sport  2020  162 000 km  Automatique       6 cv   \n",
      "\n",
      "      fuel  nbre_portes  cylindrée     Prix  \n",
      "0  Essence          4.0      1.400  430 000  \n",
      "1  Essence          4.0      2.398   36 000  \n",
      "2  Essence          5.0      0.999   33 000  \n",
      "3  Essence          5.0      1.497   68 000  \n",
      "4  Essence          4.0      1.999   73 000  \n"
     ]
    }
   ],
   "source": [
    "print(df_baniola.head())\n",
    "print('--------------------------------------------------------------------')\n",
    "print(df_automobile.head())"
   ]
  },
  {
   "cell_type": "code",
   "execution_count": 205,
   "metadata": {},
   "outputs": [],
   "source": [
    "# df_baniola['year'] = df_baniola['year'].str.extract(r'(\\d+)')[0].astype(int)\n"
   ]
  },
  {
   "cell_type": "code",
   "execution_count": 206,
   "metadata": {},
   "outputs": [],
   "source": [
    "# ajuster le prix :\n",
    "df_automobile['Prix'] = df_automobile['Prix'].str.replace(' ', '')\n",
    "# print(df_automobile.head())\n",
    "df_automobile['Prix'] = df_automobile['Prix'].str.extract(r'(\\d[\\d\\s]*)')[0].str.replace(' ', '').astype(int) "
   ]
  },
  {
   "cell_type": "code",
   "execution_count": 207,
   "metadata": {},
   "outputs": [
    {
     "name": "stdout",
     "output_type": "stream",
     "text": [
      "(40199, 10)\n"
     ]
    }
   ],
   "source": [
    "# fusionner les 2 dataframes:\n",
    "df = pd.concat([df_automobile, df_baniola], ignore_index=True)\n",
    "print(df.shape)\n"
   ]
  },
  {
   "cell_type": "code",
   "execution_count": 208,
   "metadata": {},
   "outputs": [
    {
     "name": "stdout",
     "output_type": "stream",
     "text": [
      "              Marque             Modèle    year        road        boite  \\\n",
      "0      Mercedes-Benz           Classe E  2024.0        0 km  Automatique   \n",
      "1            Peugeot               2008  2014.0  162 000 km     Manuelle   \n",
      "2              Mazda                  6  2013.0  256 000 km  Automatique   \n",
      "3               Ford  Ecosport Titanium  2022.0   60 000 km     Manuelle   \n",
      "4             Toyota         C-HR Sport  2020.0  162 000 km  Automatique   \n",
      "...              ...                ...     ...         ...          ...   \n",
      "40194        Peugeot                508  2012.0  280 000 KM     Manuelle   \n",
      "40195           Audi                 A4  2018.0  114 000 KM  Automatique   \n",
      "40196        Renault             Koleos  2014.0   96 000 KM     Manuelle   \n",
      "40197       Mahindra              AUTRE  2022.0   10 500 KM     Manuelle   \n",
      "40198           Fiat      PALIO WEEKEND  2001.0  300 000 KM     Manuelle   \n",
      "\n",
      "      horsepower     fuel  nbre_portes cylindrée    Prix  \n",
      "0          10 cv  Essence          4.0       1.4  430000  \n",
      "1           5 cv  Essence          4.0     2.398   36000  \n",
      "2           9 cv  Essence          5.0     0.999   33000  \n",
      "3           7 cv  Essence          5.0     1.497   68000  \n",
      "4           6 cv  Essence          4.0     1.999   73000  \n",
      "...          ...      ...          ...       ...     ...  \n",
      "40194       9 CV  Essence          4.0       NaN      30  \n",
      "40195       8 CV   Diesel          4.0       NaN  150000  \n",
      "40196       8 CV  Essence          4.0       NaN   59000  \n",
      "40197       5 CV   Diesel          4.0       NaN   38500  \n",
      "40198       4 CV  Essence          4.0       NaN    9100  \n",
      "\n",
      "[40199 rows x 10 columns]\n"
     ]
    }
   ],
   "source": [
    "print(df)"
   ]
  },
  {
   "cell_type": "code",
   "execution_count": 209,
   "metadata": {},
   "outputs": [
    {
     "name": "stdout",
     "output_type": "stream",
     "text": [
      "object\n",
      "              Marque             Modèle    year      road        boite  \\\n",
      "0      Mercedes-Benz           Classe E  2024.0        0   Automatique   \n",
      "1            Peugeot               2008  2014.0  162 000      Manuelle   \n",
      "2              Mazda                  6  2013.0  256 000   Automatique   \n",
      "3               Ford  Ecosport Titanium  2022.0   60 000      Manuelle   \n",
      "4             Toyota         C-HR Sport  2020.0  162 000   Automatique   \n",
      "...              ...                ...     ...       ...          ...   \n",
      "40194        Peugeot                508  2012.0  280 000      Manuelle   \n",
      "40195           Audi                 A4  2018.0  114 000   Automatique   \n",
      "40196        Renault             Koleos  2014.0   96 000      Manuelle   \n",
      "40197       Mahindra              AUTRE  2022.0   10 500      Manuelle   \n",
      "40198           Fiat      PALIO WEEKEND  2001.0  300 000      Manuelle   \n",
      "\n",
      "      horsepower     fuel  nbre_portes cylindrée    Prix  \n",
      "0          10 cv  Essence          4.0       1.4  430000  \n",
      "1           5 cv  Essence          4.0     2.398   36000  \n",
      "2           9 cv  Essence          5.0     0.999   33000  \n",
      "3           7 cv  Essence          5.0     1.497   68000  \n",
      "4           6 cv  Essence          4.0     1.999   73000  \n",
      "...          ...      ...          ...       ...     ...  \n",
      "40194       9 CV  Essence          4.0       NaN      30  \n",
      "40195       8 CV   Diesel          4.0       NaN  150000  \n",
      "40196       8 CV  Essence          4.0       NaN   59000  \n",
      "40197       5 CV   Diesel          4.0       NaN   38500  \n",
      "40198       4 CV  Essence          4.0       NaN    9100  \n",
      "\n",
      "[40199 rows x 10 columns]\n",
      "object\n",
      "              Marque             Modèle    year      road        boite  \\\n",
      "0      Mercedes-Benz           Classe E  2024.0        0   Automatique   \n",
      "1            Peugeot               2008  2014.0  162 000      Manuelle   \n",
      "2              Mazda                  6  2013.0  256 000   Automatique   \n",
      "3               Ford  Ecosport Titanium  2022.0   60 000      Manuelle   \n",
      "4             Toyota         C-HR Sport  2020.0  162 000   Automatique   \n",
      "...              ...                ...     ...       ...          ...   \n",
      "40194        Peugeot                508  2012.0  280 000      Manuelle   \n",
      "40195           Audi                 A4  2018.0  114 000   Automatique   \n",
      "40196        Renault             Koleos  2014.0   96 000      Manuelle   \n",
      "40197       Mahindra              AUTRE  2022.0   10 500      Manuelle   \n",
      "40198           Fiat      PALIO WEEKEND  2001.0  300 000      Manuelle   \n",
      "\n",
      "      horsepower     fuel  nbre_portes cylindrée    Prix  \n",
      "0          10 cv  Essence          4.0       1.4  430000  \n",
      "1           5 cv  Essence          4.0     2.398   36000  \n",
      "2           9 cv  Essence          5.0     0.999   33000  \n",
      "3           7 cv  Essence          5.0     1.497   68000  \n",
      "4           6 cv  Essence          4.0     1.999   73000  \n",
      "...          ...      ...          ...       ...     ...  \n",
      "40194       9 CV  Essence          4.0       NaN      30  \n",
      "40195       8 CV   Diesel          4.0       NaN  150000  \n",
      "40196       8 CV  Essence          4.0       NaN   59000  \n",
      "40197       5 CV   Diesel          4.0       NaN   38500  \n",
      "40198       4 CV  Essence          4.0       NaN    9100  \n",
      "\n",
      "[40199 rows x 10 columns]\n"
     ]
    }
   ],
   "source": [
    "#  ajuster le kilometrage:*\n",
    "print(df['road'].dtype)\n",
    "\n",
    "# Remove ' km' and convert to float\n",
    "df['road'] = df['road'].str.replace('km', '')\n",
    "df['road'] = df['road'].str.replace('KM', '')\n",
    "print(df)\n",
    "print(df['road'].dtype)\n",
    "print(df)\n",
    "\n"
   ]
  },
  {
   "cell_type": "code",
   "execution_count": 210,
   "metadata": {},
   "outputs": [
    {
     "name": "stdout",
     "output_type": "stream",
     "text": [
      "object\n",
      "              Marque             Modèle    year      road        boite  \\\n",
      "0      Mercedes-Benz           Classe E  2024.0        0   Automatique   \n",
      "1            Peugeot               2008  2014.0  162 000      Manuelle   \n",
      "2              Mazda                  6  2013.0  256 000   Automatique   \n",
      "3               Ford  Ecosport Titanium  2022.0   60 000      Manuelle   \n",
      "4             Toyota         C-HR Sport  2020.0  162 000   Automatique   \n",
      "...              ...                ...     ...       ...          ...   \n",
      "40194        Peugeot                508  2012.0  280 000      Manuelle   \n",
      "40195           Audi                 A4  2018.0  114 000   Automatique   \n",
      "40196        Renault             Koleos  2014.0   96 000      Manuelle   \n",
      "40197       Mahindra              AUTRE  2022.0   10 500      Manuelle   \n",
      "40198           Fiat      PALIO WEEKEND  2001.0  300 000      Manuelle   \n",
      "\n",
      "      horsepower     fuel  nbre_portes cylindrée    Prix  \n",
      "0             10  Essence          4.0       1.4  430000  \n",
      "1              5  Essence          4.0     2.398   36000  \n",
      "2              9  Essence          5.0     0.999   33000  \n",
      "3              7  Essence          5.0     1.497   68000  \n",
      "4              6  Essence          4.0     1.999   73000  \n",
      "...          ...      ...          ...       ...     ...  \n",
      "40194          9  Essence          4.0       NaN      30  \n",
      "40195          8   Diesel          4.0       NaN  150000  \n",
      "40196          8  Essence          4.0       NaN   59000  \n",
      "40197          5   Diesel          4.0       NaN   38500  \n",
      "40198          4  Essence          4.0       NaN    9100  \n",
      "\n",
      "[40199 rows x 10 columns]\n"
     ]
    }
   ],
   "source": [
    "# #  ajuster horsepower:*\n",
    "print(df['horsepower'].dtype)\n",
    "df['horsepower'] = df['horsepower'].str.replace('cv', '')\n",
    "df['horsepower'] = df['horsepower'].str.replace('CV', '')\n",
    "df['horsepower'] = df['horsepower'].str.replace(' ', '')\n",
    "\n",
    "print(df)\n"
   ]
  },
  {
   "cell_type": "code",
   "execution_count": 211,
   "metadata": {},
   "outputs": [
    {
     "name": "stdout",
     "output_type": "stream",
     "text": [
      "37073\n"
     ]
    }
   ],
   "source": [
    "# drop duplicates:\n",
    "print(df.duplicated().sum())\n",
    "df.drop_duplicates(inplace=True)\n",
    "\n"
   ]
  },
  {
   "cell_type": "code",
   "execution_count": 212,
   "metadata": {},
   "outputs": [
    {
     "name": "stdout",
     "output_type": "stream",
     "text": [
      "              Marque             Modèle    year kilometrage        boite  \\\n",
      "0      Mercedes-Benz           Classe E  2024.0          0   Automatique   \n",
      "1            Peugeot               2008  2014.0    162 000      Manuelle   \n",
      "2              Mazda                  6  2013.0    256 000   Automatique   \n",
      "3               Ford  Ecosport Titanium  2022.0     60 000      Manuelle   \n",
      "4             Toyota         C-HR Sport  2020.0    162 000   Automatique   \n",
      "...              ...                ...     ...         ...          ...   \n",
      "40194        Peugeot                508  2012.0    280 000      Manuelle   \n",
      "40195           Audi                 A4  2018.0    114 000   Automatique   \n",
      "40196        Renault             Koleos  2014.0     96 000      Manuelle   \n",
      "40197       Mahindra              AUTRE  2022.0     10 500      Manuelle   \n",
      "40198           Fiat      PALIO WEEKEND  2001.0    300 000      Manuelle   \n",
      "\n",
      "      horsepower     fuel  nbre_portes cylindrée    Prix  \n",
      "0             10  Essence          4.0       1.4  430000  \n",
      "1              5  Essence          4.0     2.398   36000  \n",
      "2              9  Essence          5.0     0.999   33000  \n",
      "3              7  Essence          5.0     1.497   68000  \n",
      "4              6  Essence          4.0     1.999   73000  \n",
      "...          ...      ...          ...       ...     ...  \n",
      "40194          9  Essence          4.0       NaN      30  \n",
      "40195          8   Diesel          4.0       NaN  150000  \n",
      "40196          8  Essence          4.0       NaN   59000  \n",
      "40197          5   Diesel          4.0       NaN   38500  \n",
      "40198          4  Essence          4.0       NaN    9100  \n",
      "\n",
      "[3126 rows x 10 columns]\n"
     ]
    }
   ],
   "source": [
    "# renomer la colonne road en \"kilometrage\"\n",
    "df.rename(columns={'road':'kilometrage'}, inplace=True)\n",
    "print(df)"
   ]
  },
  {
   "cell_type": "code",
   "execution_count": 213,
   "metadata": {},
   "outputs": [
    {
     "name": "stdout",
     "output_type": "stream",
     "text": [
      "              Marque             Modèle    year kilometrage        boite  \\\n",
      "0      Mercedes-Benz           Classe E  2024.0           0  Automatique   \n",
      "1            Peugeot               2008  2014.0      162000     Manuelle   \n",
      "2              Mazda                  6  2013.0      256000  Automatique   \n",
      "3               Ford  Ecosport Titanium  2022.0       60000     Manuelle   \n",
      "4             Toyota         C-HR Sport  2020.0      162000  Automatique   \n",
      "...              ...                ...     ...         ...          ...   \n",
      "40194        Peugeot                508  2012.0      280000     Manuelle   \n",
      "40195           Audi                 A4  2018.0      114000  Automatique   \n",
      "40196        Renault             Koleos  2014.0       96000     Manuelle   \n",
      "40197       Mahindra              AUTRE  2022.0       10500     Manuelle   \n",
      "40198           Fiat      PALIO WEEKEND  2001.0      300000     Manuelle   \n",
      "\n",
      "      horsepower     fuel  nbre_portes cylindrée    Prix  \n",
      "0             10  Essence          4.0       1.4  430000  \n",
      "1              5  Essence          4.0     2.398   36000  \n",
      "2              9  Essence          5.0     0.999   33000  \n",
      "3              7  Essence          5.0     1.497   68000  \n",
      "4              6  Essence          4.0     1.999   73000  \n",
      "...          ...      ...          ...       ...     ...  \n",
      "40194          9  Essence          4.0       NaN      30  \n",
      "40195          8   Diesel          4.0       NaN  150000  \n",
      "40196          8  Essence          4.0       NaN   59000  \n",
      "40197          5   Diesel          4.0       NaN   38500  \n",
      "40198          4  Essence          4.0       NaN    9100  \n",
      "\n",
      "[3126 rows x 10 columns]\n"
     ]
    }
   ],
   "source": [
    "# unifier le feature cylindree : eliminer la lettre \"L\" et convertir à la meme unite \n",
    "df['kilometrage'] = df['kilometrage'].str.replace(' ', '')\n",
    "print(df)\n"
   ]
  },
  {
   "cell_type": "code",
   "execution_count": 214,
   "metadata": {},
   "outputs": [
    {
     "name": "stdout",
     "output_type": "stream",
     "text": [
      "(3126, 10)\n",
      "Marque          71\n",
      "Modèle          95\n",
      "year            25\n",
      "kilometrage     62\n",
      "boite            0\n",
      "horsepower      24\n",
      "fuel             4\n",
      "nbre_portes     31\n",
      "cylindrée      912\n",
      "Prix             0\n",
      "dtype: int64\n"
     ]
    }
   ],
   "source": [
    "print(df.shape)\n",
    "print(df.isnull().sum())"
   ]
  },
  {
   "cell_type": "code",
   "execution_count": 215,
   "metadata": {},
   "outputs": [],
   "source": [
    "# save to csv :\n",
    "df.to_csv('final_data.csv', index=False)\n"
   ]
  },
  {
   "cell_type": "code",
   "execution_count": 216,
   "metadata": {},
   "outputs": [
    {
     "name": "stdout",
     "output_type": "stream",
     "text": [
      "(3082, 10)\n",
      "Marque          64\n",
      "Modèle          88\n",
      "year             0\n",
      "kilometrage     47\n",
      "boite            0\n",
      "horsepower       0\n",
      "fuel             0\n",
      "nbre_portes      0\n",
      "cylindrée      871\n",
      "Prix             0\n",
      "dtype: int64\n"
     ]
    }
   ],
   "source": [
    "# gestion des valeurs manquantes:\n",
    "\n",
    "df= df.dropna(subset=['fuel'])#supprimer les valeurs manquantes dans la colonne fuel car elles sont tres peu.\n",
    "df= df.dropna(subset=['horsepower'])#supprimer les valeurs manquantes dans la colonne cylindrée car elles sont tres peu.\n",
    "df= df.dropna(subset=['year'])#supprimer les valeurs manquantes dans la colonne year car elles sont tres peu.\n",
    "df['nbre_portes'] = df['nbre_portes'].fillna(4)#remplir les valeurs manquantes par la valeur la plus frequentes\n",
    "\n",
    "\n",
    "\n",
    "# df = df.dropna(subset=['cylindrée']) #on va les supprimer pour le moment mais on va tester le modele dans les 2 cas : avec moy de la colonne et avec dropna.\n",
    "# df['cylindrée'] = df.groupby('Marque')['cylindrée'].transform(lambda x: x.fillna(x.median()))# remplacer par la mediane de la colonne cylindree pour chaque marque puisque le nombre est important donc on ne doit pas supprimer , de plus il depend de la marque .\n",
    "print(df.shape)\n",
    "\n",
    "print(df.isnull().sum())\n"
   ]
  },
  {
   "cell_type": "code",
   "execution_count": 217,
   "metadata": {},
   "outputs": [
    {
     "name": "stdout",
     "output_type": "stream",
     "text": [
      "Empty DataFrame\n",
      "Columns: [Marque, Modèle, year, kilometrage, boite, horsepower, fuel, nbre_portes, cylindrée, Prix]\n",
      "Index: []\n",
      "Marque            Honda\n",
      "Modèle            AUTRE\n",
      "year             2016.0\n",
      "kilometrage      120000\n",
      "boite          Manuelle\n",
      "horsepower            5\n",
      "fuel            Essence\n",
      "nbre_portes         5.0\n",
      "cylindrée             3\n",
      "Prix              30000\n",
      "Name: 1482, dtype: object\n",
      "           Marque                              Modèle    year kilometrage  \\\n",
      "22            BMW                             X1 1.6L  2016.0      126000   \n",
      "27           Ford                               Focus  2016.0      149000   \n",
      "34           Land  Rover Range Rover Evoque R-Dynamic  2016.0      150000   \n",
      "50     Volkswagen                          Golf 7 GTI  2016.0       75000   \n",
      "51      Ssangyong                 Tivoli Confort Plus  2016.0      127000   \n",
      "...           ...                                 ...     ...         ...   \n",
      "38223         NaN                                 NaN  2016.0      101000   \n",
      "38248        Jeep                            RENEGADE  2016.0       80000   \n",
      "40171     Citroen                                NEMO  2016.0         177   \n",
      "40184     Citroen                                  C4  2016.0     1111111   \n",
      "40188     Hyundai                                 I10  2016.0      122000   \n",
      "\n",
      "             boite horsepower     fuel  nbre_portes cylindrée    Prix  \n",
      "22     Automatique          7  Essence          4.0       2.0   85000  \n",
      "27        Manuelle          5  Essence          5.0     1.998   36500  \n",
      "34     Automatique         10   Diesel          4.0       1.0  122000  \n",
      "50     Automatique         13  Essence          5.0     1.796  102000  \n",
      "51     Automatique          7  Essence          5.0     4.198   59000  \n",
      "...            ...        ...      ...          ...       ...     ...  \n",
      "38223     Manuelle          7  Essence          4.0       NaN   24900  \n",
      "38248     Manuelle          6   Diesel          4.0       NaN   64000  \n",
      "40171     Manuelle          5  Essence          4.0       NaN     123  \n",
      "40184     Manuelle          5   Diesel          4.0       NaN      40  \n",
      "40188  Automatique          5   Diesel          4.0       NaN   34000  \n",
      "\n",
      "[181 rows x 10 columns]\n"
     ]
    }
   ],
   "source": [
    "#  gerer les valeurs manquantes de la colonne kilometrage:selon l'age :\n",
    "print(df[df['kilometrage']==0])\n",
    "df.reset_index()\n",
    "print(df.iloc[1329])\n",
    "print(df[df['year']==2016])\n",
    "current_year = datetime.datetime.now().year\n",
    "df['age'] = current_year - df['year']\n",
    "\n",
    "df['kilometrage'] = pd.to_numeric(df['kilometrage'], errors='coerce')# convertir en float  \n",
    "\n",
    "age_to_km = df.groupby('age')['kilometrage'].median()\n",
    "\n",
    "df['kilometrage'] = df.apply(lambda row: age_to_km[row['age']] if pd.isna(row['kilometrage']) else row['kilometrage'],axis=1)\n",
    "\n",
    "df['kilometrage'] = df['kilometrage'].fillna(df['kilometrage'].median())\n",
    "df.loc[(df['kilometrage'] == 0) & (df['year'] != 2024), 'kilometrage'] = df['kilometrage'].median()\n",
    "\n",
    "\n",
    "df.drop('age', axis=1, inplace=True)\n"
   ]
  },
  {
   "cell_type": "code",
   "execution_count": 218,
   "metadata": {},
   "outputs": [
    {
     "name": "stdout",
     "output_type": "stream",
     "text": [
      "             Marque              Modèle    year  kilometrage        boite  \\\n",
      "0     Mercedes-Benz            Classe E  2024.0          0.0  Automatique   \n",
      "78            Chery         Tiggo 7 Pro  2024.0          0.0  Automatique   \n",
      "398             BMW           X2 Lounge  2024.0          0.0  Automatique   \n",
      "413   Mercedes-Benz        Classe E AMG  2024.0          0.0  Automatique   \n",
      "421   Mercedes-Benz        Classe E AMG  2024.0          0.0  Automatique   \n",
      "422   Mercedes-Benz       GLC Coupé AMG  2024.0          0.0  Automatique   \n",
      "841          Suzuki             Celerio  2024.0          0.0     Manuelle   \n",
      "937         Hyundai              Tucson  2024.0          0.0  Automatique   \n",
      "938      Volkswagen              Tiguan  2024.0          0.0  Automatique   \n",
      "941   Mercedes-Benz           GLC Coupé  2024.0          0.0  Automatique   \n",
      "980   Mercedes-Benz           GLC Coupé  2024.0          0.0  Automatique   \n",
      "1099  Mercedes-Benz      Classe C AMG +  2024.0          0.0  Automatique   \n",
      "1118            KIA  Picanto 1 ère main  2024.0          0.0  Automatique   \n",
      "\n",
      "     horsepower     fuel  nbre_portes cylindrée    Prix  \n",
      "0            10  Essence          4.0       1.4  430000  \n",
      "78            9  Essence          4.0     4.999  101000  \n",
      "398           8  Essence          5.0     1.398  199000  \n",
      "413          10  Hybride          4.0       2.0  435000  \n",
      "421          10  Hybride          5.0     1.685  450000  \n",
      "422          11  Essence          4.0       3.0  415000  \n",
      "841           4  Essence          4.0       NaN   39500  \n",
      "937           7  Hybride          5.0     1.199  212000  \n",
      "938           8  Hybride          5.0       1.2  225000  \n",
      "941          11  Hybride          4.0     1.198  440000  \n",
      "980          12  Essence          4.0     1.198  400000  \n",
      "1099          9  Essence          4.0       NaN  275000  \n",
      "1118          5  Essence          5.0     4.698   61000  \n"
     ]
    }
   ],
   "source": [
    "print(df[df['kilometrage']==0])"
   ]
  },
  {
   "cell_type": "code",
   "execution_count": 219,
   "metadata": {},
   "outputs": [
    {
     "name": "stdout",
     "output_type": "stream",
     "text": [
      "3082\n",
      "Marque          64\n",
      "Modèle          88\n",
      "year             0\n",
      "kilometrage      0\n",
      "boite            0\n",
      "horsepower       0\n",
      "fuel             0\n",
      "nbre_portes      0\n",
      "cylindrée      871\n",
      "Prix             0\n",
      "dtype: int64\n"
     ]
    }
   ],
   "source": [
    "print(df['year'].size)\n",
    "print(df.isnull().sum())\n"
   ]
  },
  {
   "cell_type": "code",
   "execution_count": 220,
   "metadata": {},
   "outputs": [
    {
     "name": "stdout",
     "output_type": "stream",
     "text": [
      "Marque          object\n",
      "Modèle          object\n",
      "year           float64\n",
      "kilometrage    float64\n",
      "boite           object\n",
      "horsepower       int32\n",
      "fuel            object\n",
      "nbre_portes      Int64\n",
      "cylindrée      float64\n",
      "Prix             int64\n",
      "dtype: object\n",
      "             Marque              Modèle    year  kilometrage        boite  \\\n",
      "0     Mercedes-Benz            Classe E  2024.0          0.0  Automatique   \n",
      "78            Chery         Tiggo 7 Pro  2024.0          0.0  Automatique   \n",
      "398             BMW           X2 Lounge  2024.0          0.0  Automatique   \n",
      "413   Mercedes-Benz        Classe E AMG  2024.0          0.0  Automatique   \n",
      "421   Mercedes-Benz        Classe E AMG  2024.0          0.0  Automatique   \n",
      "422   Mercedes-Benz       GLC Coupé AMG  2024.0          0.0  Automatique   \n",
      "841          Suzuki             Celerio  2024.0          0.0     Manuelle   \n",
      "937         Hyundai              Tucson  2024.0          0.0  Automatique   \n",
      "938      Volkswagen              Tiguan  2024.0          0.0  Automatique   \n",
      "941   Mercedes-Benz           GLC Coupé  2024.0          0.0  Automatique   \n",
      "980   Mercedes-Benz           GLC Coupé  2024.0          0.0  Automatique   \n",
      "1099  Mercedes-Benz      Classe C AMG +  2024.0          0.0  Automatique   \n",
      "1118            KIA  Picanto 1 ère main  2024.0          0.0  Automatique   \n",
      "\n",
      "      horsepower     fuel  nbre_portes  cylindrée    Prix  \n",
      "0             10  Essence            4      1.400  430000  \n",
      "78             9  Essence            4      4.999  101000  \n",
      "398            8  Essence            5      1.398  199000  \n",
      "413           10  Hybride            4      2.000  435000  \n",
      "421           10  Hybride            5      1.685  450000  \n",
      "422           11  Essence            4      3.000  415000  \n",
      "841            4  Essence            4        NaN   39500  \n",
      "937            7  Hybride            5      1.199  212000  \n",
      "938            8  Hybride            5      1.200  225000  \n",
      "941           11  Hybride            4      1.198  440000  \n",
      "980           12  Essence            4      1.198  400000  \n",
      "1099           9  Essence            4        NaN  275000  \n",
      "1118           5  Essence            5      4.698   61000  \n"
     ]
    }
   ],
   "source": [
    "# ajuster les types des colonnes:\n",
    "df['nbre_portes'] = pd.to_numeric(df['nbre_portes'], errors='coerce').astype('Int64')\n",
    "\n",
    "df['horsepower'] = df['horsepower'].str.extract(r'(\\d[\\d\\s]*)')[0].str.replace(' ', '').astype(int)\n",
    "df['cylindrée'] = df['cylindrée'].astype(float) \n",
    "# df['year'] = pd.to_datetime(df['year'], errors='coerce').dt.year.astype('Int64') # convertir en int\n",
    "\n",
    "print(df.dtypes)\n",
    "print(df[df['kilometrage']==0])"
   ]
  },
  {
   "cell_type": "code",
   "execution_count": 221,
   "metadata": {},
   "outputs": [
    {
     "name": "stdout",
     "output_type": "stream",
     "text": [
      "              Marque             Modèle    year  kilometrage        boite  \\\n",
      "0      Mercedes-Benz           Classe E  2024.0          0.0  Automatique   \n",
      "1            Peugeot               2008  2014.0     162000.0     Manuelle   \n",
      "2              Mazda                  6  2013.0     256000.0  Automatique   \n",
      "3               Ford  Ecosport Titanium  2022.0      60000.0     Manuelle   \n",
      "4             Toyota         C-HR Sport  2020.0     162000.0  Automatique   \n",
      "...              ...                ...     ...          ...          ...   \n",
      "40194        Peugeot                508  2012.0     280000.0     Manuelle   \n",
      "40195           Audi                 A4  2018.0     114000.0  Automatique   \n",
      "40196        Renault             Koleos  2014.0      96000.0     Manuelle   \n",
      "40197       Mahindra              AUTRE  2022.0      10500.0     Manuelle   \n",
      "40198           Fiat      PALIO WEEKEND  2001.0     300000.0     Manuelle   \n",
      "\n",
      "       horsepower     fuel  nbre_portes  cylindrée    Prix  \n",
      "0              10  Essence            4      1.400  430000  \n",
      "1               5  Essence            4      2.398   36000  \n",
      "2               9  Essence            5      0.999   33000  \n",
      "3               7  Essence            5      1.497   68000  \n",
      "4               6  Essence            4      1.999   73000  \n",
      "...           ...      ...          ...        ...     ...  \n",
      "40194           9  Essence            4        NaN      30  \n",
      "40195           8   Diesel            4        NaN  150000  \n",
      "40196           8  Essence            4        NaN   59000  \n",
      "40197           5   Diesel            4        NaN   38500  \n",
      "40198           4  Essence            4        NaN    9100  \n",
      "\n",
      "[3082 rows x 10 columns]\n"
     ]
    }
   ],
   "source": [
    "print(df)"
   ]
  },
  {
   "cell_type": "code",
   "execution_count": 222,
   "metadata": {},
   "outputs": [
    {
     "name": "stdout",
     "output_type": "stream",
     "text": [
      "['Automatique' 'Manuelle']\n",
      "['Essence' 'Diesel' 'Hybride' 'Electrique']\n"
     ]
    }
   ],
   "source": [
    "# encoder les valeurs de la colonne de type string en type int:\n",
    "label_encoder = LabelEncoder()\n",
    "print(df['boite'].unique())\n",
    "print(df['fuel'].unique())\n",
    "# print(df)\n"
   ]
  },
  {
   "cell_type": "code",
   "execution_count": 223,
   "metadata": {},
   "outputs": [
    {
     "name": "stdout",
     "output_type": "stream",
     "text": [
      "           Marque  Modèle    year  kilometrage        boite  horsepower  \\\n",
      "1682   Volkswagen  Golf 8  2021.0      55000.0  Automatique           8   \n",
      "21474        Fiat   AUTRE  2015.0          6.0     Manuelle           4   \n",
      "\n",
      "             fuel  nbre_portes  cylindrée  Prix  \n",
      "1682   Electrique            5        5.0  1234  \n",
      "21474  Electrique            4        NaN    50  \n"
     ]
    }
   ],
   "source": [
    "print(df[df['fuel']=='Electrique'])"
   ]
  },
  {
   "cell_type": "code",
   "execution_count": 224,
   "metadata": {},
   "outputs": [
    {
     "name": "stdout",
     "output_type": "stream",
     "text": [
      "              Marque             Modèle    year  kilometrage        boite  \\\n",
      "0      Mercedes-Benz           Classe E  2024.0          0.0  Automatique   \n",
      "1            Peugeot               2008  2014.0     162000.0     Manuelle   \n",
      "2              Mazda                  6  2013.0     256000.0  Automatique   \n",
      "3               Ford  Ecosport Titanium  2022.0      60000.0     Manuelle   \n",
      "4             Toyota         C-HR Sport  2020.0     162000.0  Automatique   \n",
      "...              ...                ...     ...          ...          ...   \n",
      "40194        Peugeot                508  2012.0     280000.0     Manuelle   \n",
      "40195           Audi                 A4  2018.0     114000.0  Automatique   \n",
      "40196        Renault             Koleos  2014.0      96000.0     Manuelle   \n",
      "40197       Mahindra              AUTRE  2022.0      10500.0     Manuelle   \n",
      "40198           Fiat      PALIO WEEKEND  2001.0     300000.0     Manuelle   \n",
      "\n",
      "       horsepower     fuel  nbre_portes  cylindrée    Prix  \n",
      "0              10  Essence            4      1.400  430000  \n",
      "1               5  Essence            4      2.398   36000  \n",
      "2               9  Essence            5      0.999   33000  \n",
      "3               7  Essence            5      1.497   68000  \n",
      "4               6  Essence            4      1.999   73000  \n",
      "...           ...      ...          ...        ...     ...  \n",
      "40194           9  Essence            4        NaN      30  \n",
      "40195           8   Diesel            4        NaN  150000  \n",
      "40196           8  Essence            4        NaN   59000  \n",
      "40197           5   Diesel            4        NaN   38500  \n",
      "40198           4  Essence            4        NaN    9100  \n",
      "\n",
      "[3082 rows x 10 columns]\n"
     ]
    }
   ],
   "source": [
    "# df.dropna(inplace=True)\n",
    "print(df)"
   ]
  },
  {
   "cell_type": "code",
   "execution_count": 225,
   "metadata": {},
   "outputs": [
    {
     "name": "stdout",
     "output_type": "stream",
     "text": [
      "              Marque             Modèle    year  kilometrage  boite  \\\n",
      "0      Mercedes-Benz           Classe E  2024.0          0.0      1   \n",
      "1            Peugeot               2008  2014.0     162000.0      0   \n",
      "2              Mazda                  6  2013.0     256000.0      1   \n",
      "3               Ford  Ecosport Titanium  2022.0      60000.0      0   \n",
      "4             Toyota         C-HR Sport  2020.0     162000.0      1   \n",
      "...              ...                ...     ...          ...    ...   \n",
      "40194        Peugeot                508  2012.0     280000.0      0   \n",
      "40195           Audi                 A4  2018.0     114000.0      1   \n",
      "40196        Renault             Koleos  2014.0      96000.0      0   \n",
      "40197       Mahindra              AUTRE  2022.0      10500.0      0   \n",
      "40198           Fiat      PALIO WEEKEND  2001.0     300000.0      0   \n",
      "\n",
      "       horsepower     fuel  nbre_portes  cylindrée    Prix  \n",
      "0              10  Essence            4      1.400  430000  \n",
      "1               5  Essence            4      2.398   36000  \n",
      "2               9  Essence            5      0.999   33000  \n",
      "3               7  Essence            5      1.497   68000  \n",
      "4               6  Essence            4      1.999   73000  \n",
      "...           ...      ...          ...        ...     ...  \n",
      "40194           9  Essence            4        NaN      30  \n",
      "40195           8   Diesel            4        NaN  150000  \n",
      "40196           8  Essence            4        NaN   59000  \n",
      "40197           5   Diesel            4        NaN   38500  \n",
      "40198           4  Essence            4        NaN    9100  \n",
      "\n",
      "[3082 rows x 10 columns]\n"
     ]
    }
   ],
   "source": [
    "df['boite'] = df['boite'].replace({'Automatique': 1, 'Manuelle': 0})\n",
    "print(df)"
   ]
  },
  {
   "cell_type": "code",
   "execution_count": 226,
   "metadata": {},
   "outputs": [
    {
     "name": "stdout",
     "output_type": "stream",
     "text": [
      "              Marque           Modèle    year  kilometrage  boite  horsepower  \\\n",
      "18              Ford       Fusion 1.6  2017.0      90000.0      0           9   \n",
      "23               BMW       X2 S drive  2020.0      74000.0      1           8   \n",
      "74     Mercedes-Benz  CLA Kit Amg 200  2020.0     150000.0      0           9   \n",
      "102           Nissan       Juke Tekna  2021.0      53000.0      1           6   \n",
      "196    Mercedes-Benz    GLC Coupé AMG  2017.0     190000.0      1           9   \n",
      "...              ...              ...     ...          ...    ...         ...   \n",
      "40194        Peugeot              508  2012.0     280000.0      0           9   \n",
      "40195           Audi               A4  2018.0     114000.0      1           8   \n",
      "40196        Renault           Koleos  2014.0      96000.0      0           8   \n",
      "40197       Mahindra            AUTRE  2022.0      10500.0      0           5   \n",
      "40198           Fiat    PALIO WEEKEND  2001.0     300000.0      0           4   \n",
      "\n",
      "          fuel  nbre_portes  cylindrée    Prix  \n",
      "18     Essence            4        NaN   55500  \n",
      "23     Essence            4        NaN  132000  \n",
      "74     Essence            4        NaN  129000  \n",
      "102    Essence            4        NaN   87000  \n",
      "196     Diesel            4        NaN  189000  \n",
      "...        ...          ...        ...     ...  \n",
      "40194  Essence            4        NaN      30  \n",
      "40195   Diesel            4        NaN  150000  \n",
      "40196  Essence            4        NaN   59000  \n",
      "40197   Diesel            4        NaN   38500  \n",
      "40198  Essence            4        NaN    9100  \n",
      "\n",
      "[871 rows x 10 columns]\n",
      "Marque               Ford\n",
      "Modèle         Fusion 1.6\n",
      "year               2017.0\n",
      "kilometrage       90000.0\n",
      "boite                   0\n",
      "horsepower              9\n",
      "fuel              Essence\n",
      "nbre_portes             4\n",
      "cylindrée             NaN\n",
      "Prix                55500\n",
      "Name: 18, dtype: object\n"
     ]
    }
   ],
   "source": [
    "print(df[df['cylindrée'].isna()])\n",
    "print(df.iloc[18])"
   ]
  },
  {
   "cell_type": "code",
   "execution_count": 227,
   "metadata": {},
   "outputs": [
    {
     "name": "stdout",
     "output_type": "stream",
     "text": [
      "['Essence' 'Diesel' 'Hybride' 'Electrique']\n",
      "              Marque             Modèle    year  kilometrage  boite  \\\n",
      "0      Mercedes-Benz           Classe E  2024.0          0.0      1   \n",
      "1            Peugeot               2008  2014.0     162000.0      0   \n",
      "2              Mazda                  6  2013.0     256000.0      1   \n",
      "3               Ford  Ecosport Titanium  2022.0      60000.0      0   \n",
      "4             Toyota         C-HR Sport  2020.0     162000.0      1   \n",
      "...              ...                ...     ...          ...    ...   \n",
      "40194        Peugeot                508  2012.0     280000.0      0   \n",
      "40195           Audi                 A4  2018.0     114000.0      1   \n",
      "40196        Renault             Koleos  2014.0      96000.0      0   \n",
      "40197       Mahindra              AUTRE  2022.0      10500.0      0   \n",
      "40198           Fiat      PALIO WEEKEND  2001.0     300000.0      0   \n",
      "\n",
      "       horsepower  nbre_portes  cylindrée    Prix  essence  diesel  \\\n",
      "0              10            4      1.400  430000        1       0   \n",
      "1               5            4      2.398   36000        1       0   \n",
      "2               9            5      0.999   33000        1       0   \n",
      "3               7            5      1.497   68000        1       0   \n",
      "4               6            4      1.999   73000        1       0   \n",
      "...           ...          ...        ...     ...      ...     ...   \n",
      "40194           9            4        NaN      30        1       0   \n",
      "40195           8            4        NaN  150000        0       1   \n",
      "40196           8            4        NaN   59000        1       0   \n",
      "40197           5            4        NaN   38500        0       1   \n",
      "40198           4            4        NaN    9100        1       0   \n",
      "\n",
      "       electrique  hybride  \n",
      "0               0        0  \n",
      "1               0        0  \n",
      "2               0        0  \n",
      "3               0        0  \n",
      "4               0        0  \n",
      "...           ...      ...  \n",
      "40194           0        0  \n",
      "40195           0        0  \n",
      "40196           0        0  \n",
      "40197           0        0  \n",
      "40198           0        0  \n",
      "\n",
      "[3082 rows x 13 columns]\n"
     ]
    }
   ],
   "source": [
    "print(df['fuel'].unique())\n",
    "df['essence'] = df['fuel']=='Essence'\n",
    "df['diesel'] = df['fuel']=='Diesel'\n",
    "df['electrique'] = df['fuel']=='Electrique'\n",
    "df['hybride'] = df['fuel']=='Hybride'\n",
    "df.drop('fuel', axis=1, inplace=True)\n",
    "df['essence'] = df['essence'].astype(int)\n",
    "df['diesel'] = df['diesel'].astype(int)\n",
    "df['electrique'] = df['electrique'].astype(int)\n",
    "df['hybride'] = df['hybride'].astype(int)\n",
    "\n",
    "print(df)\n"
   ]
  },
  {
   "cell_type": "code",
   "execution_count": 228,
   "metadata": {},
   "outputs": [
    {
     "name": "stdout",
     "output_type": "stream",
     "text": [
      "(13, 13)\n",
      "           Marque  Modèle    year  kilometrage  boite  horsepower  \\\n",
      "1682   Volkswagen  Golf 8  2021.0      55000.0      1           8   \n",
      "21474        Fiat   AUTRE  2015.0          6.0      0           4   \n",
      "\n",
      "       nbre_portes  cylindrée  Prix  essence  diesel  electrique  hybride  \n",
      "1682             5        5.0  1234        0       0           1        0  \n",
      "21474            4        NaN    50        0       0           1        0  \n"
     ]
    }
   ],
   "source": [
    "# df.reset_index(drop=True, inplace=True)\n",
    "# print(df)\n",
    "print(df[df['kilometrage']==0].shape)\n",
    "print(df[df['electrique']==1])"
   ]
  },
  {
   "cell_type": "code",
   "execution_count": 229,
   "metadata": {},
   "outputs": [
    {
     "name": "stdout",
     "output_type": "stream",
     "text": [
      "          Marque             Modèle    year  kilometrage  boite  horsepower  \\\n",
      "0       7.024520           Classe E  2024.0          0.0      1          10   \n",
      "1      10.470510               2008  2014.0     162000.0      0           5   \n",
      "2       1.424785                  6  2013.0     256000.0      1           9   \n",
      "3       4.241219  Ecosport Titanium  2022.0      60000.0      0           7   \n",
      "4       2.485089         C-HR Sport  2020.0     162000.0      1           6   \n",
      "...          ...                ...     ...          ...    ...         ...   \n",
      "40194  10.470510                508  2012.0     280000.0      0           9   \n",
      "40195   3.180915                 A4  2018.0     114000.0      1           8   \n",
      "40196   6.163022             Koleos  2014.0      96000.0      0           8   \n",
      "40197   1.192843              AUTRE  2022.0      10500.0      0           5   \n",
      "40198   4.406892      PALIO WEEKEND  2001.0     300000.0      0           4   \n",
      "\n",
      "       nbre_portes  cylindrée    Prix  essence  diesel  electrique  hybride  \n",
      "0                4      1.400  430000        1       0           0        0  \n",
      "1                4      2.398   36000        1       0           0        0  \n",
      "2                5      0.999   33000        1       0           0        0  \n",
      "3                5      1.497   68000        1       0           0        0  \n",
      "4                4      1.999   73000        1       0           0        0  \n",
      "...            ...        ...     ...      ...     ...         ...      ...  \n",
      "40194            4        NaN      30        1       0           0        0  \n",
      "40195            4        NaN  150000        0       1           0        0  \n",
      "40196            4        NaN   59000        1       0           0        0  \n",
      "40197            4        NaN   38500        0       1           0        0  \n",
      "40198            4        NaN    9100        1       0           0        0  \n",
      "\n",
      "[3082 rows x 13 columns]\n"
     ]
    }
   ],
   "source": [
    "# encodage de la colonne 'Marque': freq encoding en pourcentage:\n",
    "freq_encoding = df['Marque'].value_counts(normalize=True)*100\n",
    "df['Marque'] = df['Marque'].map(freq_encoding)\n",
    "df['Marque'] = df['Marque'].fillna(df['Marque'].median())\n",
    "# df['Marque'] = label_encoder.fit_transform(df['Marque'])\n",
    "\n",
    "print(df)\n"
   ]
  },
  {
   "cell_type": "code",
   "execution_count": 230,
   "metadata": {},
   "outputs": [
    {
     "name": "stdout",
     "output_type": "stream",
     "text": [
      "          Marque    Modèle    year  kilometrage  boite  horsepower  \\\n",
      "0       7.024520  0.968604  2024.0          0.0      1          10   \n",
      "1      10.470510  0.467602  2014.0     162000.0      0           5   \n",
      "2       1.424785  0.100200  2013.0     256000.0      1           9   \n",
      "3       4.241219  0.133601  2022.0      60000.0      0           7   \n",
      "4       2.485089  0.033400  2020.0     162000.0      1           6   \n",
      "...          ...       ...     ...          ...    ...         ...   \n",
      "40194  10.470510  0.434202  2012.0     280000.0      0           9   \n",
      "40195   3.180915  0.668003  2018.0     114000.0      1           8   \n",
      "40196   6.163022  0.066800  2014.0      96000.0      0           8   \n",
      "40197   1.192843  3.239813  2022.0      10500.0      0           5   \n",
      "40198   4.406892  0.200401  2001.0     300000.0      0           4   \n",
      "\n",
      "       nbre_portes  cylindrée    Prix  essence  diesel  electrique  hybride  \n",
      "0                4      1.400  430000        1       0           0        0  \n",
      "1                4      2.398   36000        1       0           0        0  \n",
      "2                5      0.999   33000        1       0           0        0  \n",
      "3                5      1.497   68000        1       0           0        0  \n",
      "4                4      1.999   73000        1       0           0        0  \n",
      "...            ...        ...     ...      ...     ...         ...      ...  \n",
      "40194            4        NaN      30        1       0           0        0  \n",
      "40195            4        NaN  150000        0       1           0        0  \n",
      "40196            4        NaN   59000        1       0           0        0  \n",
      "40197            4        NaN   38500        0       1           0        0  \n",
      "40198            4        NaN    9100        1       0           0        0  \n",
      "\n",
      "[3082 rows x 13 columns]\n"
     ]
    }
   ],
   "source": [
    "# encodage de la colonne 'Modele': freq encoding en pourcentage:\n",
    "freq_encoding = df['Modèle'].value_counts(normalize=True)*100\n",
    "df['Modèle'] = df['Modèle'].map(freq_encoding)\n",
    "df['Modèle'] = df['Modèle'].fillna(df['Modèle'].median())\n",
    "# df['Modèle'] = label_encoder.fit_transform(df['Modèle'])\n",
    "\n",
    "print(df)\n"
   ]
  },
  {
   "cell_type": "code",
   "execution_count": 231,
   "metadata": {},
   "outputs": [
    {
     "data": {
      "image/png": "[encoded data removed]",
      "text/plain": [
       "<Figure size 1200x800 with 2 Axes>"
      ]
     },
     "metadata": {},
     "output_type": "display_data"
    }
   ],
   "source": [
    "\n",
    "# 3. Calcul de la matrice de corrélation\n",
    "from matplotlib import pyplot as plt\n",
    "\n",
    "corr_matrix = df.corr()\n",
    "\n",
    "plt.figure(figsize=(12, 8))\n",
    "sns.heatmap(corr_matrix, annot=True, cmap='coolwarm', fmt='.2f', linewidths=0.5)\n",
    "plt.title('Matrice de corrélation')\n",
    "plt.show()"
   ]
  },
  {
   "cell_type": "code",
   "execution_count": 232,
   "metadata": {},
   "outputs": [
    {
     "name": "stdout",
     "output_type": "stream",
     "text": [
      "Marque         0\n",
      "Modèle         0\n",
      "year           0\n",
      "kilometrage    0\n",
      "boite          0\n",
      "horsepower     0\n",
      "nbre_portes    0\n",
      "cylindrée      0\n",
      "Prix           0\n",
      "essence        0\n",
      "diesel         0\n",
      "electrique     0\n",
      "hybride        0\n",
      "dtype: int64\n",
      "          Marque    Modèle    year  kilometrage  boite  horsepower  \\\n",
      "0       7.024520  0.968604  2024.0          0.0      1          10   \n",
      "1      10.470510  0.467602  2014.0     162000.0      0           5   \n",
      "2       1.424785  0.100200  2013.0     256000.0      1           9   \n",
      "3       4.241219  0.133601  2022.0      60000.0      0           7   \n",
      "4       2.485089  0.033400  2020.0     162000.0      1           6   \n",
      "...          ...       ...     ...          ...    ...         ...   \n",
      "40194  10.470510  0.434202  2012.0     280000.0      0           9   \n",
      "40195   3.180915  0.668003  2018.0     114000.0      1           8   \n",
      "40196   6.163022  0.066800  2014.0      96000.0      0           8   \n",
      "40197   1.192843  3.239813  2022.0      10500.0      0           5   \n",
      "40198   4.406892  0.200401  2001.0     300000.0      0           4   \n",
      "\n",
      "       nbre_portes  cylindrée    Prix  essence  diesel  electrique  hybride  \n",
      "0                4    1.40000  430000        1       0           0        0  \n",
      "1                4    2.39800   36000        1       0           0        0  \n",
      "2                5    0.99900   33000        1       0           0        0  \n",
      "3                5    1.49700   68000        1       0           0        0  \n",
      "4                4    1.99900   73000        1       0           0        0  \n",
      "...            ...        ...     ...      ...     ...         ...      ...  \n",
      "40194            4    9.12696      30        1       0           0        0  \n",
      "40195            4    1.95583  150000        0       1           0        0  \n",
      "40196            4    1.71715   59000        1       0           0        0  \n",
      "40197            4    7.87406   38500        0       1           0        0  \n",
      "40198            4    3.11564    9100        1       0           0        0  \n",
      "\n",
      "[3082 rows x 13 columns]\n",
      "Marque         4.241219\n",
      "Modèle           0.0334\n",
      "year             2017.0\n",
      "kilometrage     90000.0\n",
      "boite               0.0\n",
      "horsepower          9.0\n",
      "nbre_portes         4.0\n",
      "cylindrée        1.7018\n",
      "Prix            55500.0\n",
      "essence             1.0\n",
      "diesel              0.0\n",
      "electrique          0.0\n",
      "hybride             0.0\n",
      "Name: 18, dtype: Float64\n"
     ]
    }
   ],
   "source": [
    "# gerer les valeurs manquantes de la colonne cylindree:\n",
    "train_data = df[df['cylindrée'].notna()]\n",
    "test_data = df[df['cylindrée'].isna()]\n",
    "\n",
    "X_train = train_data.drop(columns=['cylindrée'])\n",
    "y_train = train_data['cylindrée']\n",
    "X_test = test_data.drop(columns=['cylindrée'])\n",
    "\n",
    "model = RandomForestRegressor()\n",
    "model.fit(X_train, y_train)\n",
    "\n",
    "df.loc[df['cylindrée'].isna(), 'cylindrée'] = model.predict(X_test)\n",
    "print(df.isnull().sum())\n",
    "print(df)\n",
    "print(df.iloc[18])\n"
   ]
  },
  {
   "cell_type": "code",
   "execution_count": 233,
   "metadata": {},
   "outputs": [
    {
     "name": "stdout",
     "output_type": "stream",
     "text": [
      "        Marque    Modèle      year  kilometrage     boite  horsepower  \\\n",
      "0     0.515546  0.315585  1.344216    -0.028167  1.297048    0.767124   \n",
      "1     1.437282 -0.284954 -0.071909    -0.024855 -0.770982   -0.595414   \n",
      "2    -0.982275 -0.725349 -0.213521    -0.022933  1.297048    0.494616   \n",
      "3    -0.228933 -0.685313  1.060991    -0.026940 -0.770982   -0.050399   \n",
      "4    -0.698664 -0.805421  0.777766    -0.024855  1.297048   -0.322907   \n",
      "...        ...       ...       ...          ...       ...         ...   \n",
      "3077  1.437282 -0.324990 -0.355134    -0.022442 -0.770982    0.494616   \n",
      "3078 -0.512544 -0.044738  0.494541    -0.025836  1.297048    0.222109   \n",
      "3079  0.285112 -0.765385 -0.071909    -0.026204 -0.770982    0.222109   \n",
      "3080 -1.044315  3.038029  1.060991    -0.027952 -0.770982   -0.595414   \n",
      "3081 -0.184619 -0.605242 -1.912871    -0.022033 -0.770982   -0.867922   \n",
      "\n",
      "      nbre_portes  cylindrée      Prix   essence    diesel  electrique  \\\n",
      "0       -0.684424  -0.679537 -0.014415  0.733433 -0.678212   -0.025482   \n",
      "1       -0.684424  -0.455959 -0.024558  0.733433 -0.678212   -0.025482   \n",
      "2        0.791709  -0.769371 -0.024635  0.733433 -0.678212   -0.025482   \n",
      "3        0.791709  -0.657806 -0.023734  0.733433 -0.678212   -0.025482   \n",
      "4       -0.684424  -0.545345 -0.023605  0.733433 -0.678212   -0.025482   \n",
      "...           ...        ...       ...       ...       ...         ...   \n",
      "3077    -0.684424   1.051498 -0.025484  0.733433 -0.678212   -0.025482   \n",
      "3078    -0.684424  -0.555017 -0.021623 -1.363451  1.474465   -0.025482   \n",
      "3079    -0.684424  -0.608487 -0.023966  0.733433 -0.678212   -0.025482   \n",
      "3080    -0.684424   0.770817 -0.024493 -1.363451  1.474465   -0.025482   \n",
      "3081    -0.684424  -0.295190 -0.025250  0.733433 -0.678212   -0.025482   \n",
      "\n",
      "       hybride  \n",
      "0    -0.187804  \n",
      "1    -0.187804  \n",
      "2    -0.187804  \n",
      "3    -0.187804  \n",
      "4    -0.187804  \n",
      "...        ...  \n",
      "3077 -0.187804  \n",
      "3078 -0.187804  \n",
      "3079 -0.187804  \n",
      "3080 -0.187804  \n",
      "3081 -0.187804  \n",
      "\n",
      "[3082 rows x 13 columns]\n"
     ]
    }
   ],
   "source": [
    "\n",
    "\n",
    "scaler = StandardScaler()\n",
    "\n",
    "df_scaled = pd.DataFrame(\n",
    "    scaler.fit_transform(df), \n",
    "    columns=df.columns         \n",
    ")\n",
    "print(df_scaled)"
   ]
  },
  {
   "cell_type": "code",
   "execution_count": 234,
   "metadata": {},
   "outputs": [],
   "source": [
    "df.drop('electrique', axis=1, inplace=True)\n"
   ]
  },
  {
   "cell_type": "code",
   "execution_count": 235,
   "metadata": {},
   "outputs": [],
   "source": [
    "df.to_csv('final_data.csv', index=False)\n"
   ]
  }
 ],
 "metadata": {
  "kernelspec": {
   "display_name": "myenv",
   "language": "python",
   "name": "python3"
  },
  "language_info": {
   "codemirror_mode": {
    "name": "ipython",
    "version": 3
   },
   "file_extension": ".py",
   "mimetype": "text/x-python",
   "name": "python",
   "nbconvert_exporter": "python",
   "pygments_lexer": "ipython3",
   "version": "3.8.20"
  }
 },
 "nbformat": 4,
 "nbformat_minor": 2
}
