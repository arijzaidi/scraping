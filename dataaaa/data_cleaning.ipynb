{
 "cells": [
  {
   "cell_type": "code",
   "execution_count": 1,
   "metadata": {},
   "outputs": [],
   "source": [
    "import pandas as pd\n",
    "import datetime"
   ]
  },
  {
   "cell_type": "code",
   "execution_count": 2,
   "metadata": {},
   "outputs": [],
   "source": [
    "df_baniola=pd.read_csv('baniola1.csv')\n",
    "df_automobile=pd.read_csv('automobile_data.csv')"
   ]
  },
  {
   "cell_type": "code",
   "execution_count": 3,
   "metadata": {},
   "outputs": [
    {
     "name": "stdout",
     "output_type": "stream",
     "text": [
      "    Marque   Modèle  year horsepower        road     boite     fuel cylindrée  \\\n",
      "0     Fiat  FIORINO  2020       5 CV      180 KM  Manuelle   Diesel       4 L   \n",
      "1  Peugeot      308  2015       5 CV  180 000 KM  Manuelle  Essence       3 L   \n",
      "2  Renault   Kangoo  2012       5 CV  240 000 KM  Manuelle   Diesel       6 L   \n",
      "3   Suzuki   Autres  2020       5 CV   90 000 KM  Manuelle  Essence       3 L   \n",
      "4   Suzuki   Autres  2020       5 CV   88 000 KM  Manuelle  Essence       3 L   \n",
      "\n",
      "   nbre_portes  Negociable   Prix  \n",
      "0          3.0  Négociable     30  \n",
      "1          5.0  Négociable  32000  \n",
      "2          3.0         NaN  24500  \n",
      "3          5.0  Négociable  35800  \n",
      "4          5.0  Négociable  36500  \n",
      "--------------------------------------------------------------------\n",
      "          Marque             Modèle  year        road        boite horsepower  \\\n",
      "0  Mercedes-Benz           Classe E  2024        0 km  Automatique      10 cv   \n",
      "1        Peugeot               2008  2014  162 000 km     Manuelle       5 cv   \n",
      "2          Mazda                  6  2013  256 000 km  Automatique       9 cv   \n",
      "3           Ford  Ecosport Titanium  2022   60 000 km     Manuelle       7 cv   \n",
      "4         Toyota         C-HR Sport  2020  162 000 km  Automatique       6 cv   \n",
      "\n",
      "      fuel  nbre_portes  cylindrée transmission     Prix  \n",
      "0  Essence          4.0     1400.0    Intégrale  430 000  \n",
      "1  Essence          4.0     2398.0     Traction   36 000  \n",
      "2  Essence          5.0      999.0     Traction   33 000  \n",
      "3  Essence          5.0     1497.0     Traction   68 000  \n",
      "4  Essence          4.0     1999.0     Traction   73 000  \n"
     ]
    }
   ],
   "source": [
    "print(df_baniola.head())\n",
    "print('--------------------------------------------------------------------')\n",
    "print(df_automobile.head())"
   ]
  },
  {
   "cell_type": "code",
   "execution_count": 4,
   "metadata": {},
   "outputs": [],
   "source": [
    "# on va supprimer le feature \"negiciable\" de df_baniola car il n'a pas d'impact dans la prediction de prix des voiture.\n",
    "df_baniola.drop('Negociable', axis=1, inplace=True)"
   ]
  },
  {
   "cell_type": "code",
   "execution_count": 5,
   "metadata": {},
   "outputs": [],
   "source": [
    "# on va supprimer le feature \"transmission\" de df_automobile car il n'existe pas dans df_baniola\n",
    "df_automobile.drop('transmission', axis=1, inplace=True)"
   ]
  },
  {
   "cell_type": "code",
   "execution_count": 6,
   "metadata": {},
   "outputs": [
    {
     "name": "stdout",
     "output_type": "stream",
     "text": [
      "    Marque   Modèle  year horsepower        road     boite     fuel cylindrée  \\\n",
      "0     Fiat  FIORINO  2020       5 CV      180 KM  Manuelle   Diesel       4 L   \n",
      "1  Peugeot      308  2015       5 CV  180 000 KM  Manuelle  Essence       3 L   \n",
      "2  Renault   Kangoo  2012       5 CV  240 000 KM  Manuelle   Diesel       6 L   \n",
      "3   Suzuki   Autres  2020       5 CV   90 000 KM  Manuelle  Essence       3 L   \n",
      "4   Suzuki   Autres  2020       5 CV   88 000 KM  Manuelle  Essence       3 L   \n",
      "\n",
      "   nbre_portes   Prix  \n",
      "0          3.0     30  \n",
      "1          5.0  32000  \n",
      "2          3.0  24500  \n",
      "3          5.0  35800  \n",
      "4          5.0  36500  \n",
      "--------------------------------------------------------------------\n",
      "          Marque             Modèle  year        road        boite horsepower  \\\n",
      "0  Mercedes-Benz           Classe E  2024        0 km  Automatique      10 cv   \n",
      "1        Peugeot               2008  2014  162 000 km     Manuelle       5 cv   \n",
      "2          Mazda                  6  2013  256 000 km  Automatique       9 cv   \n",
      "3           Ford  Ecosport Titanium  2022   60 000 km     Manuelle       7 cv   \n",
      "4         Toyota         C-HR Sport  2020  162 000 km  Automatique       6 cv   \n",
      "\n",
      "      fuel  nbre_portes  cylindrée     Prix  \n",
      "0  Essence          4.0     1400.0  430 000  \n",
      "1  Essence          4.0     2398.0   36 000  \n",
      "2  Essence          5.0      999.0   33 000  \n",
      "3  Essence          5.0     1497.0   68 000  \n",
      "4  Essence          4.0     1999.0   73 000  \n"
     ]
    }
   ],
   "source": [
    "print(df_baniola.head())\n",
    "print('--------------------------------------------------------------------')\n",
    "print(df_automobile.head())"
   ]
  },
  {
   "cell_type": "code",
   "execution_count": 8,
   "metadata": {},
   "outputs": [],
   "source": [
    "# fusionner les 2 dataframes:\n",
    "df = pd.concat([df_automobile, df_baniola], ignore_index=True)\n"
   ]
  },
  {
   "cell_type": "code",
   "execution_count": 9,
   "metadata": {},
   "outputs": [
    {
     "name": "stdout",
     "output_type": "stream",
     "text": [
      "              Marque             Modèle  year        road        boite  \\\n",
      "0      Mercedes-Benz           Classe E  2024        0 km  Automatique   \n",
      "1            Peugeot               2008  2014  162 000 km     Manuelle   \n",
      "2              Mazda                  6  2013  256 000 km  Automatique   \n",
      "3               Ford  Ecosport Titanium  2022   60 000 km     Manuelle   \n",
      "4             Toyota         C-HR Sport  2020  162 000 km  Automatique   \n",
      "...              ...                ...   ...         ...          ...   \n",
      "17395           Opel             Kadett  1991       16 KM     Manuelle   \n",
      "17396           Ford             FIESTA  2013  170 000 KM     Manuelle   \n",
      "17397     Volkswagen               Golf  2010  276 000 KM     Manuelle   \n",
      "17398      Chevrolet              CRUZE  2014  199 585 KM     Manuelle   \n",
      "17399        Renault             Scenic  2007  299 000 KM     Manuelle   \n",
      "\n",
      "      horsepower     fuel  nbre_portes cylindrée     Prix  \n",
      "0          10 cv  Essence          4.0    1400.0  430 000  \n",
      "1           5 cv  Essence          4.0    2398.0   36 000  \n",
      "2           9 cv  Essence          5.0     999.0   33 000  \n",
      "3           7 cv  Essence          5.0    1497.0   68 000  \n",
      "4           6 cv  Essence          4.0    1999.0   73 000  \n",
      "...          ...      ...          ...       ...      ...  \n",
      "17395       5 CV  Essence          5.0       9 L     7500  \n",
      "17396       5 CV  Essence          5.0      25 L    19000  \n",
      "17397       7 CV  Essence          5.0       7 L    37000  \n",
      "17398       7 CV  Essence          5.0       5 L    32000  \n",
      "17399       8 CV   Diesel          5.0      10 L    23000  \n",
      "\n",
      "[17400 rows x 10 columns]\n"
     ]
    }
   ],
   "source": [
    "print(df)"
   ]
  },
  {
   "cell_type": "code",
   "execution_count": 32,
   "metadata": {},
   "outputs": [
    {
     "name": "stdout",
     "output_type": "stream",
     "text": [
      "15013\n"
     ]
    }
   ],
   "source": [
    "# drop duplicates:\n",
    "print(df.duplicated().sum())\n",
    "df.drop_duplicates(inplace=True)"
   ]
  },
  {
   "cell_type": "code",
   "execution_count": 33,
   "metadata": {},
   "outputs": [
    {
     "name": "stdout",
     "output_type": "stream",
     "text": [
      "2024\n",
      "              Marque                              Modèle  year        road  \\\n",
      "0            Peugeot                             Partner  2014  220 000 km   \n",
      "1      Mercedes-Benz                        Classe E AMG  2018   95 000 km   \n",
      "2               Land  Rover Range Rover Evoque R-Dynamic  2016  150 000 km   \n",
      "3      Mercedes-Benz                        Classe C AMG  2019  135 000 km   \n",
      "4                BMW                  Série 4 Gran Coupé  2019   90 000 km   \n",
      "...              ...                                 ...   ...         ...   \n",
      "16195           Opel                              Kadett  1991       16 KM   \n",
      "16196           Ford                              FIESTA  2013  170 000 KM   \n",
      "16197     Volkswagen                                Golf  2010  276 000 KM   \n",
      "16198      Chevrolet                               CRUZE  2014  199 585 KM   \n",
      "16199        Renault                              Scenic  2007  299 000 KM   \n",
      "\n",
      "             boite horsepower     fuel  nbre_portes cylindrée   Prix  \n",
      "0         Manuelle       5 cv   Diesel          NaN       NaN     37  \n",
      "1      Automatique       9 cv  Essence          4.0    1499.0    155  \n",
      "2      Automatique      10 cv   Diesel          5.0    1111.0    122  \n",
      "3      Automatique       8 cv  Essence          5.0     999.0    161  \n",
      "4      Automatique       7 cv  Essence          4.0    1968.0    145  \n",
      "...            ...        ...      ...          ...       ...    ...  \n",
      "16195     Manuelle       5 CV  Essence          5.0       9 L   7500  \n",
      "16196     Manuelle       5 CV  Essence          5.0      25 L  19000  \n",
      "16197     Manuelle       7 CV  Essence          5.0       7 L  37000  \n",
      "16198     Manuelle       7 CV  Essence          5.0       5 L  32000  \n",
      "16199     Manuelle       8 CV   Diesel          5.0      10 L  23000  \n",
      "\n",
      "[2387 rows x 10 columns]\n"
     ]
    },
    {
     "ename": "TypeError",
     "evalue": "unsupported operand type(s) for -: 'int' and 'str'",
     "output_type": "error",
     "traceback": [
      "\u001b[1;31m---------------------------------------------------------------------------\u001b[0m",
      "\u001b[1;31mTypeError\u001b[0m                                 Traceback (most recent call last)",
      "File \u001b[1;32md:\\anaconda3\\envs\\myenv\\lib\\site-packages\\pandas\\core\\ops\\array_ops.py:171\u001b[0m, in \u001b[0;36m_na_arithmetic_op\u001b[1;34m(left, right, op, is_cmp)\u001b[0m\n\u001b[0;32m    170\u001b[0m \u001b[38;5;28;01mtry\u001b[39;00m:\n\u001b[1;32m--> 171\u001b[0m     result \u001b[38;5;241m=\u001b[39m \u001b[43mfunc\u001b[49m\u001b[43m(\u001b[49m\u001b[43mleft\u001b[49m\u001b[43m,\u001b[49m\u001b[43m \u001b[49m\u001b[43mright\u001b[49m\u001b[43m)\u001b[49m\n\u001b[0;32m    172\u001b[0m \u001b[38;5;28;01mexcept\u001b[39;00m \u001b[38;5;167;01mTypeError\u001b[39;00m:\n",
      "File \u001b[1;32md:\\anaconda3\\envs\\myenv\\lib\\site-packages\\pandas\\core\\computation\\expressions.py:239\u001b[0m, in \u001b[0;36mevaluate\u001b[1;34m(op, a, b, use_numexpr)\u001b[0m\n\u001b[0;32m    237\u001b[0m     \u001b[38;5;28;01mif\u001b[39;00m use_numexpr:\n\u001b[0;32m    238\u001b[0m         \u001b[38;5;66;03m# error: \"None\" not callable\u001b[39;00m\n\u001b[1;32m--> 239\u001b[0m         \u001b[38;5;28;01mreturn\u001b[39;00m \u001b[43m_evaluate\u001b[49m\u001b[43m(\u001b[49m\u001b[43mop\u001b[49m\u001b[43m,\u001b[49m\u001b[43m \u001b[49m\u001b[43mop_str\u001b[49m\u001b[43m,\u001b[49m\u001b[43m \u001b[49m\u001b[43ma\u001b[49m\u001b[43m,\u001b[49m\u001b[43m \u001b[49m\u001b[43mb\u001b[49m\u001b[43m)\u001b[49m  \u001b[38;5;66;03m# type: ignore[misc]\u001b[39;00m\n\u001b[0;32m    240\u001b[0m \u001b[38;5;28;01mreturn\u001b[39;00m _evaluate_standard(op, op_str, a, b)\n",
      "File \u001b[1;32md:\\anaconda3\\envs\\myenv\\lib\\site-packages\\pandas\\core\\computation\\expressions.py:128\u001b[0m, in \u001b[0;36m_evaluate_numexpr\u001b[1;34m(op, op_str, a, b)\u001b[0m\n\u001b[0;32m    127\u001b[0m \u001b[38;5;28;01mif\u001b[39;00m result \u001b[38;5;129;01mis\u001b[39;00m \u001b[38;5;28;01mNone\u001b[39;00m:\n\u001b[1;32m--> 128\u001b[0m     result \u001b[38;5;241m=\u001b[39m \u001b[43m_evaluate_standard\u001b[49m\u001b[43m(\u001b[49m\u001b[43mop\u001b[49m\u001b[43m,\u001b[49m\u001b[43m \u001b[49m\u001b[43mop_str\u001b[49m\u001b[43m,\u001b[49m\u001b[43m \u001b[49m\u001b[43ma\u001b[49m\u001b[43m,\u001b[49m\u001b[43m \u001b[49m\u001b[43mb\u001b[49m\u001b[43m)\u001b[49m\n\u001b[0;32m    130\u001b[0m \u001b[38;5;28;01mreturn\u001b[39;00m result\n",
      "File \u001b[1;32md:\\anaconda3\\envs\\myenv\\lib\\site-packages\\pandas\\core\\computation\\expressions.py:70\u001b[0m, in \u001b[0;36m_evaluate_standard\u001b[1;34m(op, op_str, a, b)\u001b[0m\n\u001b[0;32m     69\u001b[0m     _store_test_result(\u001b[38;5;28;01mFalse\u001b[39;00m)\n\u001b[1;32m---> 70\u001b[0m \u001b[38;5;28;01mreturn\u001b[39;00m \u001b[43mop\u001b[49m\u001b[43m(\u001b[49m\u001b[43ma\u001b[49m\u001b[43m,\u001b[49m\u001b[43m \u001b[49m\u001b[43mb\u001b[49m\u001b[43m)\u001b[49m\n",
      "File \u001b[1;32md:\\anaconda3\\envs\\myenv\\lib\\site-packages\\pandas\\core\\roperator.py:15\u001b[0m, in \u001b[0;36mrsub\u001b[1;34m(left, right)\u001b[0m\n\u001b[0;32m     14\u001b[0m \u001b[38;5;28;01mdef\u001b[39;00m \u001b[38;5;21mrsub\u001b[39m(left, right):\n\u001b[1;32m---> 15\u001b[0m     \u001b[38;5;28;01mreturn\u001b[39;00m \u001b[43mright\u001b[49m\u001b[43m \u001b[49m\u001b[38;5;241;43m-\u001b[39;49m\u001b[43m \u001b[49m\u001b[43mleft\u001b[49m\n",
      "\u001b[1;31mTypeError\u001b[0m: unsupported operand type(s) for -: 'int' and 'str'",
      "\nDuring handling of the above exception, another exception occurred:\n",
      "\u001b[1;31mTypeError\u001b[0m                                 Traceback (most recent call last)",
      "Cell \u001b[1;32mIn[33], line 5\u001b[0m\n\u001b[0;32m      3\u001b[0m \u001b[38;5;28mprint\u001b[39m (current_year)\n\u001b[0;32m      4\u001b[0m \u001b[38;5;28mprint\u001b[39m (df)\n\u001b[1;32m----> 5\u001b[0m df[\u001b[38;5;124m'\u001b[39m\u001b[38;5;124mage\u001b[39m\u001b[38;5;124m'\u001b[39m] \u001b[38;5;241m=\u001b[39m \u001b[43mcurrent_year\u001b[49m\u001b[43m \u001b[49m\u001b[38;5;241;43m-\u001b[39;49m\u001b[43m \u001b[49m\u001b[43mdf\u001b[49m\u001b[43m[\u001b[49m\u001b[38;5;124;43m'\u001b[39;49m\u001b[38;5;124;43myear\u001b[39;49m\u001b[38;5;124;43m'\u001b[39;49m\u001b[43m]\u001b[49m\n\u001b[0;32m      6\u001b[0m df\u001b[38;5;241m=\u001b[39mdf[[\u001b[38;5;124m'\u001b[39m\u001b[38;5;124mMarque\u001b[39m\u001b[38;5;124m'\u001b[39m, \u001b[38;5;124m'\u001b[39m\u001b[38;5;124mModèle\u001b[39m\u001b[38;5;124m'\u001b[39m, \u001b[38;5;124m'\u001b[39m\u001b[38;5;124myear\u001b[39m\u001b[38;5;124m'\u001b[39m, \u001b[38;5;124m'\u001b[39m\u001b[38;5;124mage\u001b[39m\u001b[38;5;124m'\u001b[39m, \u001b[38;5;124m'\u001b[39m\u001b[38;5;124mroad\u001b[39m\u001b[38;5;124m'\u001b[39m, \u001b[38;5;124m'\u001b[39m\u001b[38;5;124mboite\u001b[39m\u001b[38;5;124m'\u001b[39m, \u001b[38;5;124m'\u001b[39m\u001b[38;5;124mhorsepower\u001b[39m\u001b[38;5;124m'\u001b[39m,\u001b[38;5;124m'\u001b[39m\u001b[38;5;124mfuel\u001b[39m\u001b[38;5;124m'\u001b[39m,\u001b[38;5;124m'\u001b[39m\u001b[38;5;124mnbre_portes\u001b[39m\u001b[38;5;124m'\u001b[39m,\u001b[38;5;124m'\u001b[39m\u001b[38;5;124mcylindrée\u001b[39m\u001b[38;5;124m'\u001b[39m,\u001b[38;5;124m'\u001b[39m\u001b[38;5;124mPrix\u001b[39m\u001b[38;5;124m'\u001b[39m]]\n\u001b[0;32m      7\u001b[0m df\u001b[38;5;241m.\u001b[39mdrop(\u001b[38;5;124m'\u001b[39m\u001b[38;5;124myear\u001b[39m\u001b[38;5;124m'\u001b[39m, axis\u001b[38;5;241m=\u001b[39m\u001b[38;5;241m1\u001b[39m, inplace\u001b[38;5;241m=\u001b[39m\u001b[38;5;28;01mTrue\u001b[39;00m)\n",
      "File \u001b[1;32md:\\anaconda3\\envs\\myenv\\lib\\site-packages\\pandas\\core\\ops\\common.py:81\u001b[0m, in \u001b[0;36m_unpack_zerodim_and_defer.<locals>.new_method\u001b[1;34m(self, other)\u001b[0m\n\u001b[0;32m     77\u001b[0m             \u001b[38;5;28;01mreturn\u001b[39;00m \u001b[38;5;28mNotImplemented\u001b[39m\n\u001b[0;32m     79\u001b[0m other \u001b[38;5;241m=\u001b[39m item_from_zerodim(other)\n\u001b[1;32m---> 81\u001b[0m \u001b[38;5;28;01mreturn\u001b[39;00m \u001b[43mmethod\u001b[49m\u001b[43m(\u001b[49m\u001b[38;5;28;43mself\u001b[39;49m\u001b[43m,\u001b[49m\u001b[43m \u001b[49m\u001b[43mother\u001b[49m\u001b[43m)\u001b[49m\n",
      "File \u001b[1;32md:\\anaconda3\\envs\\myenv\\lib\\site-packages\\pandas\\core\\arraylike.py:198\u001b[0m, in \u001b[0;36mOpsMixin.__rsub__\u001b[1;34m(self, other)\u001b[0m\n\u001b[0;32m    196\u001b[0m \u001b[38;5;129m@unpack_zerodim_and_defer\u001b[39m(\u001b[38;5;124m\"\u001b[39m\u001b[38;5;124m__rsub__\u001b[39m\u001b[38;5;124m\"\u001b[39m)\n\u001b[0;32m    197\u001b[0m \u001b[38;5;28;01mdef\u001b[39;00m \u001b[38;5;21m__rsub__\u001b[39m(\u001b[38;5;28mself\u001b[39m, other):\n\u001b[1;32m--> 198\u001b[0m     \u001b[38;5;28;01mreturn\u001b[39;00m \u001b[38;5;28;43mself\u001b[39;49m\u001b[38;5;241;43m.\u001b[39;49m\u001b[43m_arith_method\u001b[49m\u001b[43m(\u001b[49m\u001b[43mother\u001b[49m\u001b[43m,\u001b[49m\u001b[43m \u001b[49m\u001b[43mroperator\u001b[49m\u001b[38;5;241;43m.\u001b[39;49m\u001b[43mrsub\u001b[49m\u001b[43m)\u001b[49m\n",
      "File \u001b[1;32md:\\anaconda3\\envs\\myenv\\lib\\site-packages\\pandas\\core\\series.py:6112\u001b[0m, in \u001b[0;36mSeries._arith_method\u001b[1;34m(self, other, op)\u001b[0m\n\u001b[0;32m   6110\u001b[0m \u001b[38;5;28;01mdef\u001b[39;00m \u001b[38;5;21m_arith_method\u001b[39m(\u001b[38;5;28mself\u001b[39m, other, op):\n\u001b[0;32m   6111\u001b[0m     \u001b[38;5;28mself\u001b[39m, other \u001b[38;5;241m=\u001b[39m ops\u001b[38;5;241m.\u001b[39malign_method_SERIES(\u001b[38;5;28mself\u001b[39m, other)\n\u001b[1;32m-> 6112\u001b[0m     \u001b[38;5;28;01mreturn\u001b[39;00m \u001b[43mbase\u001b[49m\u001b[38;5;241;43m.\u001b[39;49m\u001b[43mIndexOpsMixin\u001b[49m\u001b[38;5;241;43m.\u001b[39;49m\u001b[43m_arith_method\u001b[49m\u001b[43m(\u001b[49m\u001b[38;5;28;43mself\u001b[39;49m\u001b[43m,\u001b[49m\u001b[43m \u001b[49m\u001b[43mother\u001b[49m\u001b[43m,\u001b[49m\u001b[43m \u001b[49m\u001b[43mop\u001b[49m\u001b[43m)\u001b[49m\n",
      "File \u001b[1;32md:\\anaconda3\\envs\\myenv\\lib\\site-packages\\pandas\\core\\base.py:1348\u001b[0m, in \u001b[0;36mIndexOpsMixin._arith_method\u001b[1;34m(self, other, op)\u001b[0m\n\u001b[0;32m   1345\u001b[0m rvalues \u001b[38;5;241m=\u001b[39m ensure_wrapped_if_datetimelike(rvalues)\n\u001b[0;32m   1347\u001b[0m \u001b[38;5;28;01mwith\u001b[39;00m np\u001b[38;5;241m.\u001b[39merrstate(\u001b[38;5;28mall\u001b[39m\u001b[38;5;241m=\u001b[39m\u001b[38;5;124m\"\u001b[39m\u001b[38;5;124mignore\u001b[39m\u001b[38;5;124m\"\u001b[39m):\n\u001b[1;32m-> 1348\u001b[0m     result \u001b[38;5;241m=\u001b[39m \u001b[43mops\u001b[49m\u001b[38;5;241;43m.\u001b[39;49m\u001b[43marithmetic_op\u001b[49m\u001b[43m(\u001b[49m\u001b[43mlvalues\u001b[49m\u001b[43m,\u001b[49m\u001b[43m \u001b[49m\u001b[43mrvalues\u001b[49m\u001b[43m,\u001b[49m\u001b[43m \u001b[49m\u001b[43mop\u001b[49m\u001b[43m)\u001b[49m\n\u001b[0;32m   1350\u001b[0m \u001b[38;5;28;01mreturn\u001b[39;00m \u001b[38;5;28mself\u001b[39m\u001b[38;5;241m.\u001b[39m_construct_result(result, name\u001b[38;5;241m=\u001b[39mres_name)\n",
      "File \u001b[1;32md:\\anaconda3\\envs\\myenv\\lib\\site-packages\\pandas\\core\\ops\\array_ops.py:232\u001b[0m, in \u001b[0;36marithmetic_op\u001b[1;34m(left, right, op)\u001b[0m\n\u001b[0;32m    228\u001b[0m     _bool_arith_check(op, left, right)\n\u001b[0;32m    230\u001b[0m     \u001b[38;5;66;03m# error: Argument 1 to \"_na_arithmetic_op\" has incompatible type\u001b[39;00m\n\u001b[0;32m    231\u001b[0m     \u001b[38;5;66;03m# \"Union[ExtensionArray, ndarray[Any, Any]]\"; expected \"ndarray[Any, Any]\"\u001b[39;00m\n\u001b[1;32m--> 232\u001b[0m     res_values \u001b[38;5;241m=\u001b[39m \u001b[43m_na_arithmetic_op\u001b[49m\u001b[43m(\u001b[49m\u001b[43mleft\u001b[49m\u001b[43m,\u001b[49m\u001b[43m \u001b[49m\u001b[43mright\u001b[49m\u001b[43m,\u001b[49m\u001b[43m \u001b[49m\u001b[43mop\u001b[49m\u001b[43m)\u001b[49m  \u001b[38;5;66;03m# type: ignore[arg-type]\u001b[39;00m\n\u001b[0;32m    234\u001b[0m \u001b[38;5;28;01mreturn\u001b[39;00m res_values\n",
      "File \u001b[1;32md:\\anaconda3\\envs\\myenv\\lib\\site-packages\\pandas\\core\\ops\\array_ops.py:178\u001b[0m, in \u001b[0;36m_na_arithmetic_op\u001b[1;34m(left, right, op, is_cmp)\u001b[0m\n\u001b[0;32m    172\u001b[0m \u001b[38;5;28;01mexcept\u001b[39;00m \u001b[38;5;167;01mTypeError\u001b[39;00m:\n\u001b[0;32m    173\u001b[0m     \u001b[38;5;28;01mif\u001b[39;00m \u001b[38;5;129;01mnot\u001b[39;00m is_cmp \u001b[38;5;129;01mand\u001b[39;00m (is_object_dtype(left\u001b[38;5;241m.\u001b[39mdtype) \u001b[38;5;129;01mor\u001b[39;00m is_object_dtype(right)):\n\u001b[0;32m    174\u001b[0m         \u001b[38;5;66;03m# For object dtype, fallback to a masked operation (only operating\u001b[39;00m\n\u001b[0;32m    175\u001b[0m         \u001b[38;5;66;03m#  on the non-missing values)\u001b[39;00m\n\u001b[0;32m    176\u001b[0m         \u001b[38;5;66;03m# Don't do this for comparisons, as that will handle complex numbers\u001b[39;00m\n\u001b[0;32m    177\u001b[0m         \u001b[38;5;66;03m#  incorrectly, see GH#32047\u001b[39;00m\n\u001b[1;32m--> 178\u001b[0m         result \u001b[38;5;241m=\u001b[39m \u001b[43m_masked_arith_op\u001b[49m\u001b[43m(\u001b[49m\u001b[43mleft\u001b[49m\u001b[43m,\u001b[49m\u001b[43m \u001b[49m\u001b[43mright\u001b[49m\u001b[43m,\u001b[49m\u001b[43m \u001b[49m\u001b[43mop\u001b[49m\u001b[43m)\u001b[49m\n\u001b[0;32m    179\u001b[0m     \u001b[38;5;28;01melse\u001b[39;00m:\n\u001b[0;32m    180\u001b[0m         \u001b[38;5;28;01mraise\u001b[39;00m\n",
      "File \u001b[1;32md:\\anaconda3\\envs\\myenv\\lib\\site-packages\\pandas\\core\\ops\\array_ops.py:135\u001b[0m, in \u001b[0;36m_masked_arith_op\u001b[1;34m(x, y, op)\u001b[0m\n\u001b[0;32m    132\u001b[0m         mask \u001b[38;5;241m=\u001b[39m np\u001b[38;5;241m.\u001b[39mwhere(y \u001b[38;5;241m==\u001b[39m \u001b[38;5;241m1\u001b[39m, \u001b[38;5;28;01mFalse\u001b[39;00m, mask)\n\u001b[0;32m    134\u001b[0m     \u001b[38;5;28;01mif\u001b[39;00m mask\u001b[38;5;241m.\u001b[39many():\n\u001b[1;32m--> 135\u001b[0m         result[mask] \u001b[38;5;241m=\u001b[39m \u001b[43mop\u001b[49m\u001b[43m(\u001b[49m\u001b[43mxrav\u001b[49m\u001b[43m[\u001b[49m\u001b[43mmask\u001b[49m\u001b[43m]\u001b[49m\u001b[43m,\u001b[49m\u001b[43m \u001b[49m\u001b[43my\u001b[49m\u001b[43m)\u001b[49m\n\u001b[0;32m    137\u001b[0m np\u001b[38;5;241m.\u001b[39mputmask(result, \u001b[38;5;241m~\u001b[39mmask, np\u001b[38;5;241m.\u001b[39mnan)\n\u001b[0;32m    138\u001b[0m result \u001b[38;5;241m=\u001b[39m result\u001b[38;5;241m.\u001b[39mreshape(x\u001b[38;5;241m.\u001b[39mshape)  \u001b[38;5;66;03m# 2D compat\u001b[39;00m\n",
      "File \u001b[1;32md:\\anaconda3\\envs\\myenv\\lib\\site-packages\\pandas\\core\\roperator.py:15\u001b[0m, in \u001b[0;36mrsub\u001b[1;34m(left, right)\u001b[0m\n\u001b[0;32m     14\u001b[0m \u001b[38;5;28;01mdef\u001b[39;00m \u001b[38;5;21mrsub\u001b[39m(left, right):\n\u001b[1;32m---> 15\u001b[0m     \u001b[38;5;28;01mreturn\u001b[39;00m \u001b[43mright\u001b[49m\u001b[43m \u001b[49m\u001b[38;5;241;43m-\u001b[39;49m\u001b[43m \u001b[49m\u001b[43mleft\u001b[49m\n",
      "\u001b[1;31mTypeError\u001b[0m: unsupported operand type(s) for -: 'int' and 'str'"
     ]
    }
   ],
   "source": [
    "#  convert year to age:\n",
    "current_year = datetime.datetime.now().year\n",
    "print (current_year)\n",
    "print (df)\n",
    "df['age'] = current_year - df['year']\n",
    "df=df[['Marque', 'Modèle', 'year', 'age', 'road', 'boite', 'horsepower','fuel','nbre_portes','cylindrée','Prix']]\n",
    "df.drop('year', axis=1, inplace=True)\n",
    "print(df)\n"
   ]
  },
  {
   "cell_type": "code",
   "execution_count": 105,
   "metadata": {},
   "outputs": [
    {
     "name": "stdout",
     "output_type": "stream",
     "text": [
      "            Marque                    Modèle  age kilometrage        boite  \\\n",
      "0       Volkswagen                      Polo   20  193 000 km     Manuelle   \n",
      "1             Land  Rover Range Rover Evoque   10  198 000 km  Automatique   \n",
      "2    Mercedes-Benz                   GLA AMG    7  150 000 km  Automatique   \n",
      "3          Peugeot                       208    9  110 000 km     Manuelle   \n",
      "4              BMW    Série 3 coupé Kit M///   12  152 000 km     Manuelle   \n",
      "..             ...                       ...  ...         ...          ...   \n",
      "169        Renault                       Zoe   14       83 KM     Manuelle   \n",
      "170        Renault                    Kadjar    5  160 000 KM  Automatique   \n",
      "171     Volkswagen                     Caddy    7      180 KM     Manuelle   \n",
      "172       Mercedes                  Classe E    7   60 000 KM  Automatique   \n",
      "173        Hyundai                    TUCSON    2   42 000 KM  Automatique   \n",
      "\n",
      "    horsepower     fuel  nbre_portes cylindrée      Prix  \n",
      "0         5 cv  Essence          NaN      1000    16 400  \n",
      "1        11 cv   Diesel          NaN      1197   110 000  \n",
      "2         7 cv  Essence          NaN      3000   105 000  \n",
      "3         5 cv  Essence          NaN      1498    29 000  \n",
      "4        10 cv  Essence          NaN      2000    74 000  \n",
      "..         ...      ...          ...       ...       ...  \n",
      "169       5 CV  Essence          5.0       3 L  28886696  \n",
      "170       7 CV  Essence          NaN         5     55000  \n",
      "171       5 CV   Diesel          3.0       7 L        42  \n",
      "172      10 CV  Essence          3.0       7 L    185000  \n",
      "173       7 CV   Diesel          5.0       7 L    135000  \n",
      "\n",
      "[112 rows x 10 columns]\n"
     ]
    }
   ],
   "source": [
    "# renomer la colonne road en \"kilometrage\"\n",
    "df.rename(columns={'road':'kilometrage'}, inplace=True)\n",
    "print(df)"
   ]
  },
  {
   "cell_type": "code",
   "execution_count": null,
   "metadata": {},
   "outputs": [],
   "source": []
  },
  {
   "cell_type": "code",
   "execution_count": null,
   "metadata": {},
   "outputs": [],
   "source": []
  },
  {
   "cell_type": "code",
   "execution_count": null,
   "metadata": {},
   "outputs": [],
   "source": []
  }
 ],
 "metadata": {
  "kernelspec": {
   "display_name": "myenv",
   "language": "python",
   "name": "python3"
  },
  "language_info": {
   "codemirror_mode": {
    "name": "ipython",
    "version": 3
   },
   "file_extension": ".py",
   "mimetype": "text/x-python",
   "name": "python",
   "nbconvert_exporter": "python",
   "pygments_lexer": "ipython3",
   "version": "3.8.20"
  }
 },
 "nbformat": 4,
 "nbformat_minor": 2
}
