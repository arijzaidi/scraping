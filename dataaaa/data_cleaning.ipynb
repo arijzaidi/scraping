{
 "cells": [
  {
   "cell_type": "code",
   "execution_count": 4279,
   "metadata": {},
   "outputs": [],
   "source": [
    "import pandas as pd\n",
    "import datetime\n",
    "import re\n",
    "import numpy as np\n",
    "from sklearn.preprocessing import LabelEncoder\n",
    "from sklearn.ensemble import RandomForestRegressor\n"
   ]
  },
  {
   "cell_type": "code",
   "execution_count": 4280,
   "metadata": {},
   "outputs": [],
   "source": [
    "df_baniola=pd.read_csv('../data/baniola.csv')\n",
    "df_automobile=pd.read_csv('automobile_data.csv')"
   ]
  },
  {
   "cell_type": "code",
   "execution_count": 4281,
   "metadata": {},
   "outputs": [
    {
     "name": "stdout",
     "output_type": "stream",
     "text": [
      "     Marque   Modèle    year        road     boite horsepower     fuel  \\\n",
      "0   Hyundai      I10  2015.0  180 000 KM  Manuelle       5 CV  Essence   \n",
      "1    Suzuki   Autres  2020.0   90 000 KM  Manuelle       5 CV  Essence   \n",
      "2    Suzuki   Autres  2020.0   88 000 KM  Manuelle       5 CV  Essence   \n",
      "3  Mahindra  KUV 100  2022.0   10 300 KM  Manuelle       5 CV   Diesel   \n",
      "4   Peugeot      308  2015.0  180 000 KM  Manuelle       5 CV  Essence   \n",
      "\n",
      "   nbre_portes cylindrée   Prix  \n",
      "0            5       NaN  28000  \n",
      "1            5       3 L  35800  \n",
      "2            5       3 L  36500  \n",
      "3            4       3 L      0  \n",
      "4            5       3 L  32000  \n",
      "--------------------------------------------------------------------\n",
      "          Marque             Modèle  year        road        boite horsepower  \\\n",
      "0  Mercedes-Benz           Classe E  2024        0 km  Automatique      10 cv   \n",
      "1        Peugeot               2008  2014  162 000 km     Manuelle       5 cv   \n",
      "2          Mazda                  6  2013  256 000 km  Automatique       9 cv   \n",
      "3           Ford  Ecosport Titanium  2022   60 000 km     Manuelle       7 cv   \n",
      "4         Toyota         C-HR Sport  2020  162 000 km  Automatique       6 cv   \n",
      "\n",
      "      fuel  nbre_portes  cylindrée transmission     Prix  \n",
      "0  Essence          4.0     1400.0    Intégrale  430 000  \n",
      "1  Essence          4.0     2398.0     Traction   36 000  \n",
      "2  Essence          5.0      999.0     Traction   33 000  \n",
      "3  Essence          5.0     1497.0     Traction   68 000  \n",
      "4  Essence          4.0     1999.0     Traction   73 000  \n"
     ]
    }
   ],
   "source": [
    "print(df_baniola.head())\n",
    "print('--------------------------------------------------------------------')\n",
    "print(df_automobile.head())"
   ]
  },
  {
   "cell_type": "code",
   "execution_count": 4282,
   "metadata": {},
   "outputs": [
    {
     "name": "stdout",
     "output_type": "stream",
     "text": [
      "          Marque             Modèle  year        road        boite horsepower  \\\n",
      "0  Mercedes-Benz           Classe E  2024        0 km  Automatique      10 cv   \n",
      "1        Peugeot               2008  2014  162 000 km     Manuelle       5 cv   \n",
      "2          Mazda                  6  2013  256 000 km  Automatique       9 cv   \n",
      "3           Ford  Ecosport Titanium  2022   60 000 km     Manuelle       7 cv   \n",
      "4         Toyota         C-HR Sport  2020  162 000 km  Automatique       6 cv   \n",
      "\n",
      "      fuel  nbre_portes  cylindrée transmission     Prix  \n",
      "0  Essence          4.0      1.400    Intégrale  430 000  \n",
      "1  Essence          4.0      2.398     Traction   36 000  \n",
      "2  Essence          5.0      0.999     Traction   33 000  \n",
      "3  Essence          5.0      1.497     Traction   68 000  \n",
      "4  Essence          4.0      1.999     Traction   73 000  \n",
      "     Marque   Modèle    year        road     boite horsepower     fuel  \\\n",
      "0   Hyundai      I10  2015.0  180 000 KM  Manuelle       5 CV  Essence   \n",
      "1    Suzuki   Autres  2020.0   90 000 KM  Manuelle       5 CV  Essence   \n",
      "2    Suzuki   Autres  2020.0   88 000 KM  Manuelle       5 CV  Essence   \n",
      "3  Mahindra  KUV 100  2022.0   10 300 KM  Manuelle       5 CV   Diesel   \n",
      "4   Peugeot      308  2015.0  180 000 KM  Manuelle       5 CV  Essence   \n",
      "\n",
      "   nbre_portes cylindrée   Prix  \n",
      "0            5       NaN  28000  \n",
      "1            5         3  35800  \n",
      "2            5         3  36500  \n",
      "3            4         3      0  \n",
      "4            5         3  32000  \n"
     ]
    }
   ],
   "source": [
    "# ajuster le feature 'cylindée' de df_automobile pour qu'il soit de type int:\n",
    "df_automobile['cylindrée'] = df_automobile['cylindrée'].astype(float)/1000\n",
    "print(df_automobile.head())\n",
    "df_baniola['cylindrée'] = df_baniola['cylindrée'].apply(lambda x: re.search(r'\\d+', x).group() if pd.notnull(x) else x)\n",
    "print(df_baniola.head())"
   ]
  },
  {
   "cell_type": "code",
   "execution_count": 4283,
   "metadata": {},
   "outputs": [],
   "source": [
    "# on va supprimer le feature \"transmission\" de df_automobile car il n'existe pas dans df_baniola\n",
    "df_automobile.drop('transmission', axis=1, inplace=True)"
   ]
  },
  {
   "cell_type": "code",
   "execution_count": 4284,
   "metadata": {},
   "outputs": [
    {
     "name": "stdout",
     "output_type": "stream",
     "text": [
      "     Marque   Modèle    year        road     boite horsepower     fuel  \\\n",
      "0   Hyundai      I10  2015.0  180 000 KM  Manuelle       5 CV  Essence   \n",
      "1    Suzuki   Autres  2020.0   90 000 KM  Manuelle       5 CV  Essence   \n",
      "2    Suzuki   Autres  2020.0   88 000 KM  Manuelle       5 CV  Essence   \n",
      "3  Mahindra  KUV 100  2022.0   10 300 KM  Manuelle       5 CV   Diesel   \n",
      "4   Peugeot      308  2015.0  180 000 KM  Manuelle       5 CV  Essence   \n",
      "\n",
      "   nbre_portes cylindrée   Prix  \n",
      "0            5       NaN  28000  \n",
      "1            5         3  35800  \n",
      "2            5         3  36500  \n",
      "3            4         3      0  \n",
      "4            5         3  32000  \n",
      "--------------------------------------------------------------------\n",
      "          Marque             Modèle  year        road        boite horsepower  \\\n",
      "0  Mercedes-Benz           Classe E  2024        0 km  Automatique      10 cv   \n",
      "1        Peugeot               2008  2014  162 000 km     Manuelle       5 cv   \n",
      "2          Mazda                  6  2013  256 000 km  Automatique       9 cv   \n",
      "3           Ford  Ecosport Titanium  2022   60 000 km     Manuelle       7 cv   \n",
      "4         Toyota         C-HR Sport  2020  162 000 km  Automatique       6 cv   \n",
      "\n",
      "      fuel  nbre_portes  cylindrée     Prix  \n",
      "0  Essence          4.0      1.400  430 000  \n",
      "1  Essence          4.0      2.398   36 000  \n",
      "2  Essence          5.0      0.999   33 000  \n",
      "3  Essence          5.0      1.497   68 000  \n",
      "4  Essence          4.0      1.999   73 000  \n"
     ]
    }
   ],
   "source": [
    "print(df_baniola.head())\n",
    "print('--------------------------------------------------------------------')\n",
    "print(df_automobile.head())"
   ]
  },
  {
   "cell_type": "code",
   "execution_count": 4285,
   "metadata": {},
   "outputs": [],
   "source": [
    "# df_baniola['year'] = df_baniola['year'].str.extract(r'(\\d+)')[0].astype(int)\n"
   ]
  },
  {
   "cell_type": "code",
   "execution_count": 4286,
   "metadata": {},
   "outputs": [
    {
     "name": "stdout",
     "output_type": "stream",
     "text": [
      "          Marque             Modèle  year        road        boite horsepower  \\\n",
      "0  Mercedes-Benz           Classe E  2024        0 km  Automatique      10 cv   \n",
      "1        Peugeot               2008  2014  162 000 km     Manuelle       5 cv   \n",
      "2          Mazda                  6  2013  256 000 km  Automatique       9 cv   \n",
      "3           Ford  Ecosport Titanium  2022   60 000 km     Manuelle       7 cv   \n",
      "4         Toyota         C-HR Sport  2020  162 000 km  Automatique       6 cv   \n",
      "\n",
      "      fuel  nbre_portes  cylindrée    Prix  \n",
      "0  Essence          4.0      1.400  430000  \n",
      "1  Essence          4.0      2.398   36000  \n",
      "2  Essence          5.0      0.999   33000  \n",
      "3  Essence          5.0      1.497   68000  \n",
      "4  Essence          4.0      1.999   73000  \n"
     ]
    }
   ],
   "source": [
    "# ajuster le prix :\n",
    "df_automobile['Prix'] = df_automobile['Prix'].str.replace(' ', '')\n",
    "print(df_automobile.head())\n",
    "df_automobile['Prix'] = df_automobile['Prix'].str.extract(r'(\\d[\\d\\s]*)')[0].str.replace(' ', '').astype(int) \n",
    "\n"
   ]
  },
  {
   "cell_type": "code",
   "execution_count": 4287,
   "metadata": {},
   "outputs": [],
   "source": [
    "# fusionner les 2 dataframes:\n",
    "df = pd.concat([df_automobile, df_baniola], ignore_index=True)\n",
    "\n"
   ]
  },
  {
   "cell_type": "code",
   "execution_count": 4288,
   "metadata": {},
   "outputs": [
    {
     "name": "stdout",
     "output_type": "stream",
     "text": [
      "              Marque             Modèle    year        road        boite  \\\n",
      "0      Mercedes-Benz           Classe E  2024.0        0 km  Automatique   \n",
      "1            Peugeot               2008  2014.0  162 000 km     Manuelle   \n",
      "2              Mazda                  6  2013.0  256 000 km  Automatique   \n",
      "3               Ford  Ecosport Titanium  2022.0   60 000 km     Manuelle   \n",
      "4             Toyota         C-HR Sport  2020.0  162 000 km  Automatique   \n",
      "...              ...                ...     ...         ...          ...   \n",
      "40194        Peugeot                508  2012.0  280 000 KM     Manuelle   \n",
      "40195           Audi                 A4  2018.0  114 000 KM  Automatique   \n",
      "40196        Renault             Koleos  2014.0   96 000 KM     Manuelle   \n",
      "40197       Mahindra              AUTRE  2022.0   10 500 KM     Manuelle   \n",
      "40198           Fiat      PALIO WEEKEND  2001.0  300 000 KM     Manuelle   \n",
      "\n",
      "      horsepower     fuel  nbre_portes cylindrée    Prix  \n",
      "0          10 cv  Essence          4.0       1.4  430000  \n",
      "1           5 cv  Essence          4.0     2.398   36000  \n",
      "2           9 cv  Essence          5.0     0.999   33000  \n",
      "3           7 cv  Essence          5.0     1.497   68000  \n",
      "4           6 cv  Essence          4.0     1.999   73000  \n",
      "...          ...      ...          ...       ...     ...  \n",
      "40194       9 CV  Essence          4.0       NaN      30  \n",
      "40195       8 CV   Diesel          4.0       NaN  150000  \n",
      "40196       8 CV  Essence          4.0       NaN   59000  \n",
      "40197       5 CV   Diesel          4.0       NaN   38500  \n",
      "40198       4 CV  Essence          4.0       NaN    9100  \n",
      "\n",
      "[40199 rows x 10 columns]\n"
     ]
    }
   ],
   "source": [
    "print(df)"
   ]
  },
  {
   "cell_type": "code",
   "execution_count": 4289,
   "metadata": {},
   "outputs": [
    {
     "name": "stdout",
     "output_type": "stream",
     "text": [
      "object\n",
      "              Marque             Modèle    year      road        boite  \\\n",
      "0      Mercedes-Benz           Classe E  2024.0        0   Automatique   \n",
      "1            Peugeot               2008  2014.0  162 000      Manuelle   \n",
      "2              Mazda                  6  2013.0  256 000   Automatique   \n",
      "3               Ford  Ecosport Titanium  2022.0   60 000      Manuelle   \n",
      "4             Toyota         C-HR Sport  2020.0  162 000   Automatique   \n",
      "...              ...                ...     ...       ...          ...   \n",
      "40194        Peugeot                508  2012.0  280 000      Manuelle   \n",
      "40195           Audi                 A4  2018.0  114 000   Automatique   \n",
      "40196        Renault             Koleos  2014.0   96 000      Manuelle   \n",
      "40197       Mahindra              AUTRE  2022.0   10 500      Manuelle   \n",
      "40198           Fiat      PALIO WEEKEND  2001.0  300 000      Manuelle   \n",
      "\n",
      "      horsepower     fuel  nbre_portes cylindrée    Prix  \n",
      "0          10 cv  Essence          4.0       1.4  430000  \n",
      "1           5 cv  Essence          4.0     2.398   36000  \n",
      "2           9 cv  Essence          5.0     0.999   33000  \n",
      "3           7 cv  Essence          5.0     1.497   68000  \n",
      "4           6 cv  Essence          4.0     1.999   73000  \n",
      "...          ...      ...          ...       ...     ...  \n",
      "40194       9 CV  Essence          4.0       NaN      30  \n",
      "40195       8 CV   Diesel          4.0       NaN  150000  \n",
      "40196       8 CV  Essence          4.0       NaN   59000  \n",
      "40197       5 CV   Diesel          4.0       NaN   38500  \n",
      "40198       4 CV  Essence          4.0       NaN    9100  \n",
      "\n",
      "[40199 rows x 10 columns]\n",
      "object\n",
      "              Marque             Modèle    year      road        boite  \\\n",
      "0      Mercedes-Benz           Classe E  2024.0        0   Automatique   \n",
      "1            Peugeot               2008  2014.0  162 000      Manuelle   \n",
      "2              Mazda                  6  2013.0  256 000   Automatique   \n",
      "3               Ford  Ecosport Titanium  2022.0   60 000      Manuelle   \n",
      "4             Toyota         C-HR Sport  2020.0  162 000   Automatique   \n",
      "...              ...                ...     ...       ...          ...   \n",
      "40194        Peugeot                508  2012.0  280 000      Manuelle   \n",
      "40195           Audi                 A4  2018.0  114 000   Automatique   \n",
      "40196        Renault             Koleos  2014.0   96 000      Manuelle   \n",
      "40197       Mahindra              AUTRE  2022.0   10 500      Manuelle   \n",
      "40198           Fiat      PALIO WEEKEND  2001.0  300 000      Manuelle   \n",
      "\n",
      "      horsepower     fuel  nbre_portes cylindrée    Prix  \n",
      "0          10 cv  Essence          4.0       1.4  430000  \n",
      "1           5 cv  Essence          4.0     2.398   36000  \n",
      "2           9 cv  Essence          5.0     0.999   33000  \n",
      "3           7 cv  Essence          5.0     1.497   68000  \n",
      "4           6 cv  Essence          4.0     1.999   73000  \n",
      "...          ...      ...          ...       ...     ...  \n",
      "40194       9 CV  Essence          4.0       NaN      30  \n",
      "40195       8 CV   Diesel          4.0       NaN  150000  \n",
      "40196       8 CV  Essence          4.0       NaN   59000  \n",
      "40197       5 CV   Diesel          4.0       NaN   38500  \n",
      "40198       4 CV  Essence          4.0       NaN    9100  \n",
      "\n",
      "[40199 rows x 10 columns]\n"
     ]
    }
   ],
   "source": [
    "#  ajuster le kilometrage:*\n",
    "print(df['road'].dtype)\n",
    "\n",
    "# Remove ' km' and convert to float\n",
    "df['road'] = df['road'].str.replace('km', '')\n",
    "df['road'] = df['road'].str.replace('KM', '')\n",
    "print(df)\n",
    "print(df['road'].dtype)\n",
    "print(df)\n",
    "\n"
   ]
  },
  {
   "cell_type": "code",
   "execution_count": 4290,
   "metadata": {},
   "outputs": [
    {
     "name": "stdout",
     "output_type": "stream",
     "text": [
      "object\n",
      "              Marque             Modèle    year      road        boite  \\\n",
      "0      Mercedes-Benz           Classe E  2024.0        0   Automatique   \n",
      "1            Peugeot               2008  2014.0  162 000      Manuelle   \n",
      "2              Mazda                  6  2013.0  256 000   Automatique   \n",
      "3               Ford  Ecosport Titanium  2022.0   60 000      Manuelle   \n",
      "4             Toyota         C-HR Sport  2020.0  162 000   Automatique   \n",
      "...              ...                ...     ...       ...          ...   \n",
      "40194        Peugeot                508  2012.0  280 000      Manuelle   \n",
      "40195           Audi                 A4  2018.0  114 000   Automatique   \n",
      "40196        Renault             Koleos  2014.0   96 000      Manuelle   \n",
      "40197       Mahindra              AUTRE  2022.0   10 500      Manuelle   \n",
      "40198           Fiat      PALIO WEEKEND  2001.0  300 000      Manuelle   \n",
      "\n",
      "      horsepower     fuel  nbre_portes cylindrée    Prix  \n",
      "0             10  Essence          4.0       1.4  430000  \n",
      "1              5  Essence          4.0     2.398   36000  \n",
      "2              9  Essence          5.0     0.999   33000  \n",
      "3              7  Essence          5.0     1.497   68000  \n",
      "4              6  Essence          4.0     1.999   73000  \n",
      "...          ...      ...          ...       ...     ...  \n",
      "40194          9  Essence          4.0       NaN      30  \n",
      "40195          8   Diesel          4.0       NaN  150000  \n",
      "40196          8  Essence          4.0       NaN   59000  \n",
      "40197          5   Diesel          4.0       NaN   38500  \n",
      "40198          4  Essence          4.0       NaN    9100  \n",
      "\n",
      "[40199 rows x 10 columns]\n"
     ]
    }
   ],
   "source": [
    "# #  ajuster horsepower:*\n",
    "print(df['horsepower'].dtype)\n",
    "df['horsepower'] = df['horsepower'].str.replace('cv', '')\n",
    "df['horsepower'] = df['horsepower'].str.replace('CV', '')\n",
    "df['horsepower'] = df['horsepower'].str.replace(' ', '')\n",
    "\n",
    "print(df)\n"
   ]
  },
  {
   "cell_type": "code",
   "execution_count": 4291,
   "metadata": {},
   "outputs": [
    {
     "name": "stdout",
     "output_type": "stream",
     "text": [
      "37073\n"
     ]
    }
   ],
   "source": [
    "# drop duplicates:\n",
    "print(df.duplicated().sum())\n",
    "df.drop_duplicates(inplace=True)\n"
   ]
  },
  {
   "cell_type": "code",
   "execution_count": 4292,
   "metadata": {},
   "outputs": [
    {
     "name": "stdout",
     "output_type": "stream",
     "text": [
      "              Marque             Modèle    year kilometrage        boite  \\\n",
      "0      Mercedes-Benz           Classe E  2024.0          0   Automatique   \n",
      "1            Peugeot               2008  2014.0    162 000      Manuelle   \n",
      "2              Mazda                  6  2013.0    256 000   Automatique   \n",
      "3               Ford  Ecosport Titanium  2022.0     60 000      Manuelle   \n",
      "4             Toyota         C-HR Sport  2020.0    162 000   Automatique   \n",
      "...              ...                ...     ...         ...          ...   \n",
      "40194        Peugeot                508  2012.0    280 000      Manuelle   \n",
      "40195           Audi                 A4  2018.0    114 000   Automatique   \n",
      "40196        Renault             Koleos  2014.0     96 000      Manuelle   \n",
      "40197       Mahindra              AUTRE  2022.0     10 500      Manuelle   \n",
      "40198           Fiat      PALIO WEEKEND  2001.0    300 000      Manuelle   \n",
      "\n",
      "      horsepower     fuel  nbre_portes cylindrée    Prix  \n",
      "0             10  Essence          4.0       1.4  430000  \n",
      "1              5  Essence          4.0     2.398   36000  \n",
      "2              9  Essence          5.0     0.999   33000  \n",
      "3              7  Essence          5.0     1.497   68000  \n",
      "4              6  Essence          4.0     1.999   73000  \n",
      "...          ...      ...          ...       ...     ...  \n",
      "40194          9  Essence          4.0       NaN      30  \n",
      "40195          8   Diesel          4.0       NaN  150000  \n",
      "40196          8  Essence          4.0       NaN   59000  \n",
      "40197          5   Diesel          4.0       NaN   38500  \n",
      "40198          4  Essence          4.0       NaN    9100  \n",
      "\n",
      "[3126 rows x 10 columns]\n"
     ]
    }
   ],
   "source": [
    "# renomer la colonne road en \"kilometrage\"\n",
    "df.rename(columns={'road':'kilometrage'}, inplace=True)\n",
    "print(df)"
   ]
  },
  {
   "cell_type": "code",
   "execution_count": 4293,
   "metadata": {},
   "outputs": [
    {
     "name": "stdout",
     "output_type": "stream",
     "text": [
      "              Marque             Modèle    year kilometrage        boite  \\\n",
      "0      Mercedes-Benz           Classe E  2024.0           0  Automatique   \n",
      "1            Peugeot               2008  2014.0      162000     Manuelle   \n",
      "2              Mazda                  6  2013.0      256000  Automatique   \n",
      "3               Ford  Ecosport Titanium  2022.0       60000     Manuelle   \n",
      "4             Toyota         C-HR Sport  2020.0      162000  Automatique   \n",
      "...              ...                ...     ...         ...          ...   \n",
      "40194        Peugeot                508  2012.0      280000     Manuelle   \n",
      "40195           Audi                 A4  2018.0      114000  Automatique   \n",
      "40196        Renault             Koleos  2014.0       96000     Manuelle   \n",
      "40197       Mahindra              AUTRE  2022.0       10500     Manuelle   \n",
      "40198           Fiat      PALIO WEEKEND  2001.0      300000     Manuelle   \n",
      "\n",
      "      horsepower     fuel  nbre_portes cylindrée    Prix  \n",
      "0             10  Essence          4.0       1.4  430000  \n",
      "1              5  Essence          4.0     2.398   36000  \n",
      "2              9  Essence          5.0     0.999   33000  \n",
      "3              7  Essence          5.0     1.497   68000  \n",
      "4              6  Essence          4.0     1.999   73000  \n",
      "...          ...      ...          ...       ...     ...  \n",
      "40194          9  Essence          4.0       NaN      30  \n",
      "40195          8   Diesel          4.0       NaN  150000  \n",
      "40196          8  Essence          4.0       NaN   59000  \n",
      "40197          5   Diesel          4.0       NaN   38500  \n",
      "40198          4  Essence          4.0       NaN    9100  \n",
      "\n",
      "[3126 rows x 10 columns]\n"
     ]
    }
   ],
   "source": [
    "# unifier le feature cylindree : eliminer la lettre \"L\" et convertir à la meme unite \n",
    "df['kilometrage'] = df['kilometrage'].str.replace(' ', '')\n",
    "print(df)\n"
   ]
  },
  {
   "cell_type": "code",
   "execution_count": 4294,
   "metadata": {},
   "outputs": [
    {
     "name": "stdout",
     "output_type": "stream",
     "text": [
      "Marque          71\n",
      "Modèle          95\n",
      "year            25\n",
      "kilometrage     62\n",
      "boite            0\n",
      "horsepower      24\n",
      "fuel             4\n",
      "nbre_portes     31\n",
      "cylindrée      912\n",
      "Prix             0\n",
      "dtype: int64\n"
     ]
    }
   ],
   "source": [
    "print(df.isnull().sum())"
   ]
  },
  {
   "cell_type": "code",
   "execution_count": 4295,
   "metadata": {},
   "outputs": [],
   "source": [
    "# save to csv :\n",
    "df.to_csv('final_data.csv', index=False)\n"
   ]
  },
  {
   "cell_type": "code",
   "execution_count": 4296,
   "metadata": {},
   "outputs": [
    {
     "name": "stdout",
     "output_type": "stream",
     "text": [
      "Marque          71\n",
      "Modèle          95\n",
      "year            25\n",
      "kilometrage     62\n",
      "boite            0\n",
      "horsepower      24\n",
      "fuel             4\n",
      "nbre_portes     31\n",
      "cylindrée      912\n",
      "Prix             0\n",
      "dtype: int64\n",
      "Marque          64\n",
      "Modèle          88\n",
      "year             0\n",
      "kilometrage     47\n",
      "boite            0\n",
      "horsepower       0\n",
      "fuel             0\n",
      "nbre_portes      0\n",
      "cylindrée      871\n",
      "Prix             0\n",
      "dtype: int64\n",
      "(3082, 10)\n"
     ]
    }
   ],
   "source": [
    "# gestion des valeurs manquantes:\n",
    "print(df.isnull().sum())\n",
    "\n",
    "df= df.dropna(subset=['fuel'])#supprimer les valeurs manquantes dans la colonne fuel car elles sont tres peu.\n",
    "df= df.dropna(subset=['horsepower'])#supprimer les valeurs manquantes dans la colonne cylindrée car elles sont tres peu.\n",
    "df= df.dropna(subset=['year'])#supprimer les valeurs manquantes dans la colonne year car elles sont tres peu.\n",
    "df['nbre_portes'] = df['nbre_portes'].fillna(4)#remplir les valeurs manquantes par la valeur la plus frequentes\n",
    "\n",
    "\n",
    "\n",
    "# df = df.dropna(subset=['cylindrée']) #on va les supprimer pour le moment mais on va tester le modele dans les 2 cas : avec moy de la colonne et avec dropna.\n",
    "# df['cylindrée'] = df.groupby('Marque')['cylindrée'].transform(lambda x: x.fillna(x.median()))# remplacer par la mediane de la colonne cylindree pour chaque marque puisque le nombre est important donc on ne doit pas supprimer , de plus il depend de la marque .\n",
    "\n",
    "print(df.isnull().sum())\n",
    "print(df.shape)\n",
    "\n"
   ]
  },
  {
   "cell_type": "code",
   "execution_count": 4297,
   "metadata": {},
   "outputs": [
    {
     "name": "stderr",
     "output_type": "stream",
     "text": [
      "d:\\anaconda3\\envs\\myenv\\lib\\site-packages\\numpy\\lib\\nanfunctions.py:1215: RuntimeWarning: Mean of empty slice\n",
      "  return np.nanmean(a, axis, out=out, keepdims=keepdims)\n"
     ]
    }
   ],
   "source": [
    "#  gerer les valeurs manquantes de la colonne kilometrage:selon l'age :\n",
    "current_year = datetime.datetime.now().year\n",
    "df['age'] = current_year - df['year']\n",
    "\n",
    "age_to_km = df.groupby('age')['kilometrage'].median()\n",
    "\n",
    "df['kilometrage'] = df.apply(lambda row: age_to_km[row['age']] if pd.isna(row['kilometrage']) else row['kilometrage'],axis=1)\n",
    "\n",
    "df['kilometrage'] = df['kilometrage'].fillna(df['kilometrage'].median())\n",
    "\n",
    "df.drop('age', axis=1, inplace=True)"
   ]
  },
  {
   "cell_type": "code",
   "execution_count": 4298,
   "metadata": {},
   "outputs": [
    {
     "name": "stdout",
     "output_type": "stream",
     "text": [
      "3082\n"
     ]
    }
   ],
   "source": [
    "print(df['year'].size)"
   ]
  },
  {
   "cell_type": "code",
   "execution_count": 4299,
   "metadata": {},
   "outputs": [
    {
     "name": "stdout",
     "output_type": "stream",
     "text": [
      "Marque          object\n",
      "Modèle          object\n",
      "year             Int64\n",
      "kilometrage    float64\n",
      "boite           object\n",
      "horsepower       int32\n",
      "fuel            object\n",
      "nbre_portes      Int64\n",
      "cylindrée      float64\n",
      "Prix             int64\n",
      "dtype: object\n"
     ]
    }
   ],
   "source": [
    "# ajuster les types des colonnes:\n",
    "df['nbre_portes'] = pd.to_numeric(df['nbre_portes'], errors='coerce').astype('Int64')\n",
    "\n",
    "df['kilometrage'] = pd.to_numeric(df['kilometrage'], errors='coerce')# convertir en float  \n",
    "df['horsepower'] = df['horsepower'].str.extract(r'(\\d[\\d\\s]*)')[0].str.replace(' ', '').astype(int) \n",
    "df['cylindrée'] = df['cylindrée'].astype(float) \n",
    "df['year'] = pd.to_datetime(df['year'], errors='coerce').dt.year.astype('Int64') # convertir en int\n",
    "\n",
    "print(df.dtypes)\n"
   ]
  },
  {
   "cell_type": "code",
   "execution_count": 4300,
   "metadata": {},
   "outputs": [
    {
     "name": "stdout",
     "output_type": "stream",
     "text": [
      "              Marque             Modèle  year  kilometrage        boite  \\\n",
      "0      Mercedes-Benz           Classe E  1970          0.0  Automatique   \n",
      "1            Peugeot               2008  1970     162000.0     Manuelle   \n",
      "2              Mazda                  6  1970     256000.0  Automatique   \n",
      "3               Ford  Ecosport Titanium  1970      60000.0     Manuelle   \n",
      "4             Toyota         C-HR Sport  1970     162000.0  Automatique   \n",
      "...              ...                ...   ...          ...          ...   \n",
      "40194        Peugeot                508  1970     280000.0     Manuelle   \n",
      "40195           Audi                 A4  1970     114000.0  Automatique   \n",
      "40196        Renault             Koleos  1970      96000.0     Manuelle   \n",
      "40197       Mahindra              AUTRE  1970      10500.0     Manuelle   \n",
      "40198           Fiat      PALIO WEEKEND  1970     300000.0     Manuelle   \n",
      "\n",
      "       horsepower     fuel  nbre_portes  cylindrée    Prix  \n",
      "0              10  Essence            4      1.400  430000  \n",
      "1               5  Essence            4      2.398   36000  \n",
      "2               9  Essence            5      0.999   33000  \n",
      "3               7  Essence            5      1.497   68000  \n",
      "4               6  Essence            4      1.999   73000  \n",
      "...           ...      ...          ...        ...     ...  \n",
      "40194           9  Essence            4        NaN      30  \n",
      "40195           8   Diesel            4        NaN  150000  \n",
      "40196           8  Essence            4        NaN   59000  \n",
      "40197           5   Diesel            4        NaN   38500  \n",
      "40198           4  Essence            4        NaN    9100  \n",
      "\n",
      "[3082 rows x 10 columns]\n"
     ]
    }
   ],
   "source": [
    "print(df)"
   ]
  },
  {
   "cell_type": "code",
   "execution_count": 4301,
   "metadata": {},
   "outputs": [
    {
     "name": "stdout",
     "output_type": "stream",
     "text": [
      "['Automatique' 'Manuelle']\n",
      "['Essence' 'Diesel' 'Hybride' 'Electrique']\n"
     ]
    }
   ],
   "source": [
    "# encoder les valeurs de la colonne de type string en type int:\n",
    "label_encoder = LabelEncoder()\n",
    "print(df['boite'].unique())\n",
    "print(df['fuel'].unique())\n",
    "# print(df)"
   ]
  },
  {
   "cell_type": "code",
   "execution_count": 4302,
   "metadata": {},
   "outputs": [
    {
     "name": "stdout",
     "output_type": "stream",
     "text": [
      "              Marque             Modèle  year  kilometrage        boite  \\\n",
      "0      Mercedes-Benz           Classe E  1970          0.0  Automatique   \n",
      "1            Peugeot               2008  1970     162000.0     Manuelle   \n",
      "2              Mazda                  6  1970     256000.0  Automatique   \n",
      "3               Ford  Ecosport Titanium  1970      60000.0     Manuelle   \n",
      "4             Toyota         C-HR Sport  1970     162000.0  Automatique   \n",
      "...              ...                ...   ...          ...          ...   \n",
      "40194        Peugeot                508  1970     280000.0     Manuelle   \n",
      "40195           Audi                 A4  1970     114000.0  Automatique   \n",
      "40196        Renault             Koleos  1970      96000.0     Manuelle   \n",
      "40197       Mahindra              AUTRE  1970      10500.0     Manuelle   \n",
      "40198           Fiat      PALIO WEEKEND  1970     300000.0     Manuelle   \n",
      "\n",
      "       horsepower     fuel  nbre_portes  cylindrée    Prix  \n",
      "0              10  Essence            4      1.400  430000  \n",
      "1               5  Essence            4      2.398   36000  \n",
      "2               9  Essence            5      0.999   33000  \n",
      "3               7  Essence            5      1.497   68000  \n",
      "4               6  Essence            4      1.999   73000  \n",
      "...           ...      ...          ...        ...     ...  \n",
      "40194           9  Essence            4        NaN      30  \n",
      "40195           8   Diesel            4        NaN  150000  \n",
      "40196           8  Essence            4        NaN   59000  \n",
      "40197           5   Diesel            4        NaN   38500  \n",
      "40198           4  Essence            4        NaN    9100  \n",
      "\n",
      "[3082 rows x 10 columns]\n"
     ]
    }
   ],
   "source": [
    "# df.dropna(inplace=True)\n",
    "print(df)"
   ]
  },
  {
   "cell_type": "code",
   "execution_count": 4303,
   "metadata": {},
   "outputs": [
    {
     "name": "stdout",
     "output_type": "stream",
     "text": [
      "              Marque             Modèle  year  kilometrage  boite  horsepower  \\\n",
      "0      Mercedes-Benz           Classe E  1970          0.0      1          10   \n",
      "1            Peugeot               2008  1970     162000.0      0           5   \n",
      "2              Mazda                  6  1970     256000.0      1           9   \n",
      "3               Ford  Ecosport Titanium  1970      60000.0      0           7   \n",
      "4             Toyota         C-HR Sport  1970     162000.0      1           6   \n",
      "...              ...                ...   ...          ...    ...         ...   \n",
      "40194        Peugeot                508  1970     280000.0      0           9   \n",
      "40195           Audi                 A4  1970     114000.0      1           8   \n",
      "40196        Renault             Koleos  1970      96000.0      0           8   \n",
      "40197       Mahindra              AUTRE  1970      10500.0      0           5   \n",
      "40198           Fiat      PALIO WEEKEND  1970     300000.0      0           4   \n",
      "\n",
      "          fuel  nbre_portes  cylindrée    Prix  \n",
      "0      Essence            4      1.400  430000  \n",
      "1      Essence            4      2.398   36000  \n",
      "2      Essence            5      0.999   33000  \n",
      "3      Essence            5      1.497   68000  \n",
      "4      Essence            4      1.999   73000  \n",
      "...        ...          ...        ...     ...  \n",
      "40194  Essence            4        NaN      30  \n",
      "40195   Diesel            4        NaN  150000  \n",
      "40196  Essence            4        NaN   59000  \n",
      "40197   Diesel            4        NaN   38500  \n",
      "40198  Essence            4        NaN    9100  \n",
      "\n",
      "[3082 rows x 10 columns]\n"
     ]
    }
   ],
   "source": [
    "df['boite'] = df['boite'].replace({'Automatique': 1, 'Manuelle': 0})\n",
    "print(df)"
   ]
  },
  {
   "cell_type": "code",
   "execution_count": 4304,
   "metadata": {},
   "outputs": [
    {
     "name": "stdout",
     "output_type": "stream",
     "text": [
      "['Essence' 'Diesel' 'Hybride' 'Electrique']\n",
      "              Marque             Modèle  year  kilometrage  boite  horsepower  \\\n",
      "0      Mercedes-Benz           Classe E  1970          0.0      1          10   \n",
      "1            Peugeot               2008  1970     162000.0      0           5   \n",
      "2              Mazda                  6  1970     256000.0      1           9   \n",
      "3               Ford  Ecosport Titanium  1970      60000.0      0           7   \n",
      "4             Toyota         C-HR Sport  1970     162000.0      1           6   \n",
      "...              ...                ...   ...          ...    ...         ...   \n",
      "40194        Peugeot                508  1970     280000.0      0           9   \n",
      "40195           Audi                 A4  1970     114000.0      1           8   \n",
      "40196        Renault             Koleos  1970      96000.0      0           8   \n",
      "40197       Mahindra              AUTRE  1970      10500.0      0           5   \n",
      "40198           Fiat      PALIO WEEKEND  1970     300000.0      0           4   \n",
      "\n",
      "       nbre_portes  cylindrée    Prix  essence  diesel  electrique  hybride  \n",
      "0                4      1.400  430000        1       0           0        0  \n",
      "1                4      2.398   36000        1       0           0        0  \n",
      "2                5      0.999   33000        1       0           0        0  \n",
      "3                5      1.497   68000        1       0           0        0  \n",
      "4                4      1.999   73000        1       0           0        0  \n",
      "...            ...        ...     ...      ...     ...         ...      ...  \n",
      "40194            4        NaN      30        1       0           0        0  \n",
      "40195            4        NaN  150000        0       1           0        0  \n",
      "40196            4        NaN   59000        1       0           0        0  \n",
      "40197            4        NaN   38500        0       1           0        0  \n",
      "40198            4        NaN    9100        1       0           0        0  \n",
      "\n",
      "[3082 rows x 13 columns]\n"
     ]
    }
   ],
   "source": [
    "print(df['fuel'].unique())\n",
    "df['essence'] = df['fuel']=='Essence'\n",
    "df['diesel'] = df['fuel']=='Diesel'\n",
    "df['electrique'] = df['fuel']=='Electrique'\n",
    "df['hybride'] = df['fuel']=='Hybride'\n",
    "df.drop('fuel', axis=1, inplace=True)\n",
    "df['essence'] = df['essence'].astype(int)\n",
    "df['diesel'] = df['diesel'].astype(int)\n",
    "df['electrique'] = df['electrique'].astype(int)\n",
    "df['hybride'] = df['hybride'].astype(int)\n",
    "\n",
    "print(df)\n"
   ]
  },
  {
   "cell_type": "code",
   "execution_count": 4305,
   "metadata": {},
   "outputs": [
    {
     "name": "stdout",
     "output_type": "stream",
     "text": [
      "             Marque             Modèle  year  kilometrage  boite  horsepower  \\\n",
      "0     Mercedes-Benz           Classe E  1970          0.0      1          10   \n",
      "1           Peugeot               2008  1970     162000.0      0           5   \n",
      "2             Mazda                  6  1970     256000.0      1           9   \n",
      "3              Ford  Ecosport Titanium  1970      60000.0      0           7   \n",
      "4            Toyota         C-HR Sport  1970     162000.0      1           6   \n",
      "...             ...                ...   ...          ...    ...         ...   \n",
      "3077        Peugeot                508  1970     280000.0      0           9   \n",
      "3078           Audi                 A4  1970     114000.0      1           8   \n",
      "3079        Renault             Koleos  1970      96000.0      0           8   \n",
      "3080       Mahindra              AUTRE  1970      10500.0      0           5   \n",
      "3081           Fiat      PALIO WEEKEND  1970     300000.0      0           4   \n",
      "\n",
      "      nbre_portes  cylindrée    Prix  essence  diesel  electrique  hybride  \n",
      "0               4      1.400  430000        1       0           0        0  \n",
      "1               4      2.398   36000        1       0           0        0  \n",
      "2               5      0.999   33000        1       0           0        0  \n",
      "3               5      1.497   68000        1       0           0        0  \n",
      "4               4      1.999   73000        1       0           0        0  \n",
      "...           ...        ...     ...      ...     ...         ...      ...  \n",
      "3077            4        NaN      30        1       0           0        0  \n",
      "3078            4        NaN  150000        0       1           0        0  \n",
      "3079            4        NaN   59000        1       0           0        0  \n",
      "3080            4        NaN   38500        0       1           0        0  \n",
      "3081            4        NaN    9100        1       0           0        0  \n",
      "\n",
      "[3082 rows x 13 columns]\n"
     ]
    }
   ],
   "source": [
    "df.reset_index(drop=True, inplace=True)\n",
    "print(df)"
   ]
  },
  {
   "cell_type": "code",
   "execution_count": 4306,
   "metadata": {},
   "outputs": [
    {
     "name": "stdout",
     "output_type": "stream",
     "text": [
      "         Marque             Modèle  year  kilometrage  boite  horsepower  \\\n",
      "0      7.024520           Classe E  1970          0.0      1          10   \n",
      "1     10.470510               2008  1970     162000.0      0           5   \n",
      "2      1.424785                  6  1970     256000.0      1           9   \n",
      "3      4.241219  Ecosport Titanium  1970      60000.0      0           7   \n",
      "4      2.485089         C-HR Sport  1970     162000.0      1           6   \n",
      "...         ...                ...   ...          ...    ...         ...   \n",
      "3077  10.470510                508  1970     280000.0      0           9   \n",
      "3078   3.180915                 A4  1970     114000.0      1           8   \n",
      "3079   6.163022             Koleos  1970      96000.0      0           8   \n",
      "3080   1.192843              AUTRE  1970      10500.0      0           5   \n",
      "3081   4.406892      PALIO WEEKEND  1970     300000.0      0           4   \n",
      "\n",
      "      nbre_portes  cylindrée    Prix  essence  diesel  electrique  hybride  \n",
      "0               4      1.400  430000        1       0           0        0  \n",
      "1               4      2.398   36000        1       0           0        0  \n",
      "2               5      0.999   33000        1       0           0        0  \n",
      "3               5      1.497   68000        1       0           0        0  \n",
      "4               4      1.999   73000        1       0           0        0  \n",
      "...           ...        ...     ...      ...     ...         ...      ...  \n",
      "3077            4        NaN      30        1       0           0        0  \n",
      "3078            4        NaN  150000        0       1           0        0  \n",
      "3079            4        NaN   59000        1       0           0        0  \n",
      "3080            4        NaN   38500        0       1           0        0  \n",
      "3081            4        NaN    9100        1       0           0        0  \n",
      "\n",
      "[3082 rows x 13 columns]\n"
     ]
    }
   ],
   "source": [
    "# encodage de la colonne 'Marque': freq encoding en pourcentage:\n",
    "freq_encoding = df['Marque'].value_counts(normalize=True)*100\n",
    "df['Marque'] = df['Marque'].map(freq_encoding)\n",
    "df['Marque'] = df['Marque'].fillna(df['Marque'].median())\n",
    "\n",
    "print(df)\n"
   ]
  },
  {
   "cell_type": "code",
   "execution_count": 4307,
   "metadata": {},
   "outputs": [
    {
     "name": "stdout",
     "output_type": "stream",
     "text": [
      "         Marque    Modèle  year  kilometrage  boite  horsepower  nbre_portes  \\\n",
      "0      7.024520  0.968604  1970          0.0      1          10            4   \n",
      "1     10.470510  0.467602  1970     162000.0      0           5            4   \n",
      "2      1.424785  0.100200  1970     256000.0      1           9            5   \n",
      "3      4.241219  0.133601  1970      60000.0      0           7            5   \n",
      "4      2.485089  0.033400  1970     162000.0      1           6            4   \n",
      "...         ...       ...   ...          ...    ...         ...          ...   \n",
      "3077  10.470510  0.434202  1970     280000.0      0           9            4   \n",
      "3078   3.180915  0.668003  1970     114000.0      1           8            4   \n",
      "3079   6.163022  0.066800  1970      96000.0      0           8            4   \n",
      "3080   1.192843  3.239813  1970      10500.0      0           5            4   \n",
      "3081   4.406892  0.200401  1970     300000.0      0           4            4   \n",
      "\n",
      "      cylindrée    Prix  essence  diesel  electrique  hybride  \n",
      "0         1.400  430000        1       0           0        0  \n",
      "1         2.398   36000        1       0           0        0  \n",
      "2         0.999   33000        1       0           0        0  \n",
      "3         1.497   68000        1       0           0        0  \n",
      "4         1.999   73000        1       0           0        0  \n",
      "...         ...     ...      ...     ...         ...      ...  \n",
      "3077        NaN      30        1       0           0        0  \n",
      "3078        NaN  150000        0       1           0        0  \n",
      "3079        NaN   59000        1       0           0        0  \n",
      "3080        NaN   38500        0       1           0        0  \n",
      "3081        NaN    9100        1       0           0        0  \n",
      "\n",
      "[3082 rows x 13 columns]\n"
     ]
    }
   ],
   "source": [
    "# encodage de la colonne 'Modele': freq encoding en pourcentage:\n",
    "freq_encoding = df['Modèle'].value_counts(normalize=True)*100\n",
    "df['Modèle'] = df['Modèle'].map(freq_encoding)\n",
    "df['Modèle'] = df['Modèle'].fillna(df['Modèle'].median())\n",
    "\n",
    "print(df)\n"
   ]
  },
  {
   "cell_type": "code",
   "execution_count": 4308,
   "metadata": {},
   "outputs": [
    {
     "name": "stdout",
     "output_type": "stream",
     "text": [
      "Marque         0\n",
      "Modèle         0\n",
      "year           0\n",
      "kilometrage    0\n",
      "boite          0\n",
      "horsepower     0\n",
      "nbre_portes    0\n",
      "cylindrée      0\n",
      "Prix           0\n",
      "essence        0\n",
      "diesel         0\n",
      "electrique     0\n",
      "hybride        0\n",
      "dtype: int64\n",
      "         Marque    Modèle  year  kilometrage  boite  horsepower  nbre_portes  \\\n",
      "0      7.024520  0.968604  1970          0.0      1          10            4   \n",
      "1     10.470510  0.467602  1970     162000.0      0           5            4   \n",
      "2      1.424785  0.100200  1970     256000.0      1           9            5   \n",
      "3      4.241219  0.133601  1970      60000.0      0           7            5   \n",
      "4      2.485089  0.033400  1970     162000.0      1           6            4   \n",
      "...         ...       ...   ...          ...    ...         ...          ...   \n",
      "3077  10.470510  0.434202  1970     280000.0      0           9            4   \n",
      "3078   3.180915  0.668003  1970     114000.0      1           8            4   \n",
      "3079   6.163022  0.066800  1970      96000.0      0           8            4   \n",
      "3080   1.192843  3.239813  1970      10500.0      0           5            4   \n",
      "3081   4.406892  0.200401  1970     300000.0      0           4            4   \n",
      "\n",
      "      cylindrée    Prix  essence  diesel  electrique  hybride  \n",
      "0       1.40000  430000        1       0           0        0  \n",
      "1       2.39800   36000        1       0           0        0  \n",
      "2       0.99900   33000        1       0           0        0  \n",
      "3       1.49700   68000        1       0           0        0  \n",
      "4       1.99900   73000        1       0           0        0  \n",
      "...         ...     ...      ...     ...         ...      ...  \n",
      "3077    8.70806      30        1       0           0        0  \n",
      "3078    2.35704  150000        0       1           0        0  \n",
      "3079    2.00007   59000        1       0           0        0  \n",
      "3080   10.42810   38500        0       1           0        0  \n",
      "3081    4.85432    9100        1       0           0        0  \n",
      "\n",
      "[3082 rows x 13 columns]\n"
     ]
    }
   ],
   "source": [
    "# gerer les valeurs manquantes de la colonne cylindree:\n",
    "train_data = df[df['cylindrée'].notna()]\n",
    "test_data = df[df['cylindrée'].isna()]\n",
    "\n",
    "X_train = train_data.drop(columns=['cylindrée'])\n",
    "y_train = train_data['cylindrée']\n",
    "X_test = test_data.drop(columns=['cylindrée'])\n",
    "\n",
    "model = RandomForestRegressor()\n",
    "model.fit(X_train, y_train)\n",
    "\n",
    "df.loc[df['cylindrée'].isna(), 'cylindrée'] = model.predict(X_test)\n",
    "print(df.isnull().sum())\n",
    "print(df)\n"
   ]
  },
  {
   "cell_type": "code",
   "execution_count": 4309,
   "metadata": {},
   "outputs": [],
   "source": [
    "df.to_csv('final_data.csv', index=False)\n"
   ]
  }
 ],
 "metadata": {
  "kernelspec": {
   "display_name": "myenv",
   "language": "python",
   "name": "python3"
  },
  "language_info": {
   "codemirror_mode": {
    "name": "ipython",
    "version": 3
   },
   "file_extension": ".py",
   "mimetype": "text/x-python",
   "name": "python",
   "nbconvert_exporter": "python",
   "pygments_lexer": "ipython3",
   "version": "3.8.20"
  }
 },
 "nbformat": 4,
 "nbformat_minor": 2
}
