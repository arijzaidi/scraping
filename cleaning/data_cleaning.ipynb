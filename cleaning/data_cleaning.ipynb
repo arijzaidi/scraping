{
 "cells": [
  {
   "cell_type": "code",
   "execution_count": 63,
   "metadata": {},
   "outputs": [],
   "source": [
    "import pandas as pd\n",
    "import datetime"
   ]
  },
  {
   "cell_type": "code",
   "execution_count": 64,
   "metadata": {},
   "outputs": [],
   "source": [
    "df_baniola=pd.read_csv('../data/baniola.csv')\n",
    "df_automobile=pd.read_csv('../data/cars.csv')"
   ]
  },
  {
   "cell_type": "code",
   "execution_count": 65,
   "metadata": {},
   "outputs": [
    {
     "name": "stdout",
     "output_type": "stream",
     "text": [
      "       Marque    Modèle  year        road     boite horsepower     fuel  \\\n",
      "0      Nissan     Micra  2020   74 500 KM  Manuelle       5 CV  Essence   \n",
      "1  Volkswagen      Golf  1995  287 204 KM  Manuelle       6 CV   Diesel   \n",
      "2    Mercedes  Classe E  2010  300 000 KM  Manuelle       7 CV   Diesel   \n",
      "3      Suzuki    Autres  2020   88 000 KM  Manuelle       5 CV  Essence   \n",
      "4     Peugeot       308  2014   99 500 KM  Manuelle       5 CV  Essence   \n",
      "\n",
      "   nbre_portes cylindrée  negociable   Prix  \n",
      "0          5.0       3 L  Négociable  33500  \n",
      "1          NaN         5  Négociable  15700  \n",
      "2          5.0      12 L  Négociable  72000  \n",
      "3          5.0       3 L  Négociable  36500  \n",
      "4          5.0       3 L  Négociable  34000  \n",
      "--------------------------------------------------------------------\n",
      "          Marque                    Modèle  year        road        boite  \\\n",
      "0     Volkswagen                      Polo  2004  193 000 km     Manuelle   \n",
      "1           Land  Rover Range Rover Evoque  2014  198 000 km  Automatique   \n",
      "2  Mercedes-Benz                   GLA AMG  2017  150 000 km  Automatique   \n",
      "3        Peugeot                       208  2015  110 000 km     Manuelle   \n",
      "4            BMW    Série 3 coupé Kit M///  2012  152 000 km     Manuelle   \n",
      "\n",
      "  horsepower     fuel  nombre_de_portes  cylindrée transmission     Prix  \n",
      "0       5 cv  Essence                 5       1000   Propulsion   16 400  \n",
      "1      11 cv   Diesel                 5       1197    Intégrale  110 000  \n",
      "2       7 cv  Essence                 4       3000   Propulsion  105 000  \n",
      "3       5 cv  Essence                 5       1498     Traction   29 000  \n",
      "4      10 cv  Essence                 5       2000     Traction   74 000  \n"
     ]
    }
   ],
   "source": [
    "print(df_baniola.head())\n",
    "print('--------------------------------------------------------------------')\n",
    "print(df_automobile.head())"
   ]
  },
  {
   "cell_type": "code",
   "execution_count": 66,
   "metadata": {},
   "outputs": [],
   "source": [
    "# on va supprimer le feature \"negiciable\" de df_baniola car il n'a pas d'impact dans la prediction de prix des voiture.\n",
    "df_baniola.drop('negociable', axis=1, inplace=True)"
   ]
  },
  {
   "cell_type": "code",
   "execution_count": 67,
   "metadata": {},
   "outputs": [],
   "source": [
    "# on va supprimer le feature \"transmission\" de df_automobile car il n'existe pas dans df_baniola\n",
    "df_automobile.drop('transmission', axis=1, inplace=True)"
   ]
  },
  {
   "cell_type": "code",
   "execution_count": 68,
   "metadata": {},
   "outputs": [
    {
     "name": "stdout",
     "output_type": "stream",
     "text": [
      "       Marque    Modèle  year        road     boite horsepower     fuel  \\\n",
      "0      Nissan     Micra  2020   74 500 KM  Manuelle       5 CV  Essence   \n",
      "1  Volkswagen      Golf  1995  287 204 KM  Manuelle       6 CV   Diesel   \n",
      "2    Mercedes  Classe E  2010  300 000 KM  Manuelle       7 CV   Diesel   \n",
      "3      Suzuki    Autres  2020   88 000 KM  Manuelle       5 CV  Essence   \n",
      "4     Peugeot       308  2014   99 500 KM  Manuelle       5 CV  Essence   \n",
      "\n",
      "   nbre_portes cylindrée   Prix  \n",
      "0          5.0       3 L  33500  \n",
      "1          NaN         5  15700  \n",
      "2          5.0      12 L  72000  \n",
      "3          5.0       3 L  36500  \n",
      "4          5.0       3 L  34000  \n",
      "--------------------------------------------------------------------\n",
      "          Marque                    Modèle  year        road        boite  \\\n",
      "0     Volkswagen                      Polo  2004  193 000 km     Manuelle   \n",
      "1           Land  Rover Range Rover Evoque  2014  198 000 km  Automatique   \n",
      "2  Mercedes-Benz                   GLA AMG  2017  150 000 km  Automatique   \n",
      "3        Peugeot                       208  2015  110 000 km     Manuelle   \n",
      "4            BMW    Série 3 coupé Kit M///  2012  152 000 km     Manuelle   \n",
      "\n",
      "  horsepower     fuel  nombre_de_portes  cylindrée     Prix  \n",
      "0       5 cv  Essence                 5       1000   16 400  \n",
      "1      11 cv   Diesel                 5       1197  110 000  \n",
      "2       7 cv  Essence                 4       3000  105 000  \n",
      "3       5 cv  Essence                 5       1498   29 000  \n",
      "4      10 cv  Essence                 5       2000   74 000  \n"
     ]
    }
   ],
   "source": [
    "print(df_baniola.head())\n",
    "print('--------------------------------------------------------------------')\n",
    "print(df_automobile.head())"
   ]
  },
  {
   "cell_type": "code",
   "execution_count": 69,
   "metadata": {},
   "outputs": [],
   "source": [
    "# fusionner les 2 dataframes:\n",
    "df = pd.concat([df_automobile, df_baniola], ignore_index=True)\n"
   ]
  },
  {
   "cell_type": "code",
   "execution_count": 70,
   "metadata": {},
   "outputs": [
    {
     "name": "stdout",
     "output_type": "stream",
     "text": [
      "          Marque                    Modèle  year        road        boite  \\\n",
      "0     Volkswagen                      Polo  2004  193 000 km     Manuelle   \n",
      "1           Land  Rover Range Rover Evoque  2014  198 000 km  Automatique   \n",
      "2  Mercedes-Benz                   GLA AMG  2017  150 000 km  Automatique   \n",
      "3        Peugeot                       208  2015  110 000 km     Manuelle   \n",
      "4            BMW    Série 3 coupé Kit M///  2012  152 000 km     Manuelle   \n",
      "\n",
      "  horsepower     fuel  nombre_de_portes cylindrée     Prix  nbre_portes  \n",
      "0       5 cv  Essence               5.0      1000   16 400          NaN  \n",
      "1      11 cv   Diesel               5.0      1197  110 000          NaN  \n",
      "2       7 cv  Essence               4.0      3000  105 000          NaN  \n",
      "3       5 cv  Essence               5.0      1498   29 000          NaN  \n",
      "4      10 cv  Essence               5.0      2000   74 000          NaN  \n"
     ]
    }
   ],
   "source": [
    "print(df.head())"
   ]
  },
  {
   "cell_type": "code",
   "execution_count": 71,
   "metadata": {},
   "outputs": [
    {
     "name": "stdout",
     "output_type": "stream",
     "text": [
      "62\n"
     ]
    }
   ],
   "source": [
    "# drop duplicates:\n",
    "print(df.duplicated().sum())\n",
    "df.drop_duplicates(inplace=True)"
   ]
  },
  {
   "cell_type": "code",
   "execution_count": null,
   "metadata": {},
   "outputs": [],
   "source": [
    "#  convert year to age:\n",
    "current_year = datetime.datetime.now().year\n",
    "print (current_year)\n",
    "print (df)\n",
    "df['age'] = current_year - df['year']\n",
    "df=df[['Marque', 'Modèle', 'year', 'age', 'road', 'boite', 'horsepower','fuel','nbre_portes','cylindrée','Prix']]\n",
    "df.drop('year', axis=1, inplace=True)\n",
    "print(df)\n"
   ]
  },
  {
   "cell_type": "code",
   "execution_count": null,
   "metadata": {},
   "outputs": [],
   "source": []
  },
  {
   "cell_type": "code",
   "execution_count": null,
   "metadata": {},
   "outputs": [],
   "source": []
  },
  {
   "cell_type": "code",
   "execution_count": null,
   "metadata": {},
   "outputs": [],
   "source": []
  }
 ],
 "metadata": {
  "kernelspec": {
   "display_name": "myenv",
   "language": "python",
   "name": "python3"
  },
  "language_info": {
   "codemirror_mode": {
    "name": "ipython",
    "version": 3
   },
   "file_extension": ".py",
   "mimetype": "text/x-python",
   "name": "python",
   "nbconvert_exporter": "python",
   "pygments_lexer": "ipython3",
   "version": "3.8.20"
  }
 },
 "nbformat": 4,
 "nbformat_minor": 2
}
